{
 "cells": [
  {
   "cell_type": "code",
   "execution_count": 23,
   "metadata": {},
   "outputs": [],
   "source": [
    "import requests\n",
    "import pprint as pp\n",
    "import time\n",
    "\n",
    "api_key = \"08139dcdb3msh3a387961b7326e5p1f355ejsnfcb2a93b9426\"\n",
    "\n",
    "headers = {\n",
    "\t\"X-RapidAPI-Host\": \"wft-geo-db.p.rapidapi.com\",\n",
    "\t\"X-RapidAPI-Key\": api_key\n",
    "}\n"
   ]
  },
  {
   "cell_type": "code",
   "execution_count": 24,
   "metadata": {},
   "outputs": [],
   "source": [
    "def siglas_estados(sigla):\n",
    "    list_state = []\n",
    "    url = \"https://wft-geo-db.p.rapidapi.com/v1/geo/countries/\"+ sigla + \"/regions\"\n",
    "\n",
    "    i = 0\n",
    "    while(i < 3):\n",
    "        triste = i * 10\n",
    "        querystring = {\"limit\":\"10\", \"offset\": f\"{triste}\"}\n",
    "    \n",
    "        response = requests.request(\"GET\", url, headers=headers, params=querystring)\n",
    "        region = response.json()\n",
    "\n",
    "        z = region[\"data\"]\n",
    "\n",
    "        for j in z:\n",
    "            list_state.append(j[\"isoCode\"])\n",
    "        i += 1\n",
    "        time.sleep(3)    \n",
    "    \n",
    "    return list_state\n"
   ]
  },
  {
   "cell_type": "code",
   "execution_count": 25,
   "metadata": {},
   "outputs": [
    {
     "name": "stdout",
     "output_type": "stream",
     "text": [
      "['AC',\n",
      " 'AL',\n",
      " 'AP',\n",
      " 'AM',\n",
      " 'BA',\n",
      " 'CE',\n",
      " 'ES',\n",
      " 'DF',\n",
      " 'GO',\n",
      " 'MA',\n",
      " 'MT',\n",
      " 'MS',\n",
      " 'MG',\n",
      " 'PR',\n",
      " 'PB',\n",
      " 'PA',\n",
      " 'PE',\n",
      " 'PI',\n",
      " 'RN',\n",
      " 'RS',\n",
      " 'RJ',\n",
      " 'RO',\n",
      " 'RR',\n",
      " 'SC',\n",
      " 'SE',\n",
      " 'SP',\n",
      " 'TO']\n"
     ]
    }
   ],
   "source": [
    "sigla = \"BR\"\n",
    "\n",
    "ms = siglas_estados(sigla)\n",
    "\n",
    "pp.pprint(ms)"
   ]
  },
  {
   "cell_type": "code",
   "execution_count": 26,
   "metadata": {},
   "outputs": [],
   "source": [
    "def maiories_cidades(sigla, state):\n",
    "    \n",
    "    lista_cidades = []\n",
    "\n",
    "    url = \"https://wft-geo-db.p.rapidapi.com/v1/geo/countries/\"+ sigla + \"/regions/\"+ state +\"/cities\"\n",
    "    querystring = {\"sort\":\"-population\", \"limit\": 10}\n",
    "\n",
    "    response = requests.request(\"GET\", url, headers=headers, params=querystring)\n",
    "\n",
    "    cidades = response.json()\n",
    "    \"\"\"c = cidades['data']\n",
    "\n",
    "    for i in c:\n",
    "        lista_cidades.append(i['name'])\n",
    "    \"\"\"\n",
    "    return cidades\n",
    "\n",
    "\n"
   ]
  },
  {
   "cell_type": "code",
   "execution_count": 27,
   "metadata": {},
   "outputs": [
    {
     "name": "stdout",
     "output_type": "stream",
     "text": [
      "{'data': [{'city': 'Greater Rio de Janeiro',\n",
      "           'id': 2982624,\n",
      "           'latitude': -22.9028,\n",
      "           'longitude': -43.2078,\n",
      "           'name': 'Greater Rio de Janeiro',\n",
      "           'population': 11900000,\n",
      "           'type': 'CITY',\n",
      "           'wikiDataId': 'Q2720540'},\n",
      "          {'city': 'Rio de Janeiro',\n",
      "           'id': 137508,\n",
      "           'latitude': -22.908333333,\n",
      "           'longitude': -43.196388888,\n",
      "           'name': 'Rio de Janeiro',\n",
      "           'population': 6747815,\n",
      "           'type': 'CITY',\n",
      "           'wikiDataId': 'Q8678'},\n",
      "          {'city': 'São Gonçalo',\n",
      "           'id': 8627,\n",
      "           'latitude': -22.826944444,\n",
      "           'longitude': -43.053888888,\n",
      "           'name': 'São Gonçalo',\n",
      "           'population': 1091737,\n",
      "           'type': 'CITY',\n",
      "           'wikiDataId': 'Q83114'},\n",
      "          {'city': 'Duque de Caxias',\n",
      "           'id': 9709,\n",
      "           'latitude': -22.78556,\n",
      "           'longitude': -43.31167,\n",
      "           'name': 'Duque de Caxias',\n",
      "           'population': 924624,\n",
      "           'type': 'CITY',\n",
      "           'wikiDataId': 'Q193021'},\n",
      "          {'city': 'Nova Iguaçu',\n",
      "           'id': 8140,\n",
      "           'latitude': -22.758888888,\n",
      "           'longitude': -43.450833333,\n",
      "           'name': 'Nova Iguaçu',\n",
      "           'population': 823302,\n",
      "           'type': 'CITY',\n",
      "           'wikiDataId': 'Q188897'},\n",
      "          {'city': 'Niterói',\n",
      "           'id': 138066,\n",
      "           'latitude': -22.91715,\n",
      "           'longitude': -43.08391,\n",
      "           'name': 'Niterói',\n",
      "           'population': 515317,\n",
      "           'type': 'CITY',\n",
      "           'wikiDataId': 'Q178725'},\n",
      "          {'city': 'Belford Roxo',\n",
      "           'id': 9205,\n",
      "           'latitude': -22.763888888,\n",
      "           'longitude': -43.398888888,\n",
      "           'name': 'Belford Roxo',\n",
      "           'population': 513118,\n",
      "           'type': 'CITY',\n",
      "           'wikiDataId': 'Q737636'},\n",
      "          {'city': 'São João de Meriti',\n",
      "           'id': 8599,\n",
      "           'latitude': -22.803888888,\n",
      "           'longitude': -43.371944444,\n",
      "           'name': 'São João de Meriti',\n",
      "           'population': 472906,\n",
      "           'type': 'CITY',\n",
      "           'wikiDataId': 'Q459690'},\n",
      "          {'city': 'Campos',\n",
      "           'id': 9088,\n",
      "           'latitude': -21.75227,\n",
      "           'longitude': -41.33044,\n",
      "           'name': 'Campos',\n",
      "           'population': 387417,\n",
      "           'type': 'CITY',\n",
      "           'wikiDataId': 'Q22047120'},\n",
      "          {'city': 'Petrópolis',\n",
      "           'id': 137809,\n",
      "           'latitude': -22.505,\n",
      "           'longitude': -43.178888888,\n",
      "           'name': 'Petrópolis',\n",
      "           'population': 306678,\n",
      "           'type': 'CITY',\n",
      "           'wikiDataId': 'Q189043'}],\n",
      " 'links': [{'href': '/v1/geo/countries/BR/regions/RJ/cities?offset=0&limit=10&sort=-population',\n",
      "            'rel': 'first'},\n",
      "           {'href': '/v1/geo/countries/BR/regions/RJ/cities?offset=10&limit=10&sort=-population',\n",
      "            'rel': 'next'},\n",
      "           {'href': '/v1/geo/countries/BR/regions/RJ/cities?offset=250&limit=10&sort=-population',\n",
      "            'rel': 'last'}],\n",
      " 'metadata': {'currentOffset': 0, 'totalCount': 253}}\n"
     ]
    }
   ],
   "source": [
    "state = \"RJ\"\n",
    "\n",
    "retorno = maiories_cidades(sigla, state)\n",
    "\n",
    "pp.pprint(retorno)"
   ]
  },
  {
   "cell_type": "code",
   "execution_count": 38,
   "metadata": {},
   "outputs": [],
   "source": [
    "def unificar_cidades(sigla, state):\n",
    "    lista_cidades = []\n",
    "\n",
    "    url = \"https://wft-geo-db.p.rapidapi.com/v1/geo/countries/\"+ sigla + \"/regions/\"+ state +\"/cities\"\n",
    "    querystring = {\"sort\":\"-population\", \"limit\": 10}\n",
    "\n",
    "    response = requests.request(\"GET\", url, headers=headers, params=querystring)\n",
    "\n",
    "    cidades = response.json()\n",
    "    c = cidades['data']\n",
    "\n",
    "    for i in c:\n",
    "        lista_cidades.append(i['name'])\n",
    "    \n",
    "    return lista_cidades\n"
   ]
  },
  {
   "cell_type": "code",
   "execution_count": 39,
   "metadata": {},
   "outputs": [
    {
     "name": "stdout",
     "output_type": "stream",
     "text": [
      "['Porto Velho',\n",
      " 'Ji-Paraná',\n",
      " 'Ariquemes',\n",
      " 'Vilhena',\n",
      " 'Cacoal',\n",
      " 'Jaru',\n",
      " 'Rolim de Moura',\n",
      " 'Guajará-Mirim',\n",
      " \"Machadinho d'Oeste\",\n",
      " 'Pôsto Fiscal Rolim de Moura']\n"
     ]
    }
   ],
   "source": [
    "state = input(\"Insira a sigla do Estado que deseja: \")\n",
    "cidades = unificar_cidades(sigla, state)\n",
    "\n",
    "pp.pprint(cidades)"
   ]
  }
 ],
 "metadata": {
  "interpreter": {
   "hash": "e7370f93d1d0cde622a1f8e1c04877d8463912d04d973331ad4851f04de6915a"
  },
  "kernelspec": {
   "display_name": "Python 3.8.10 64-bit",
   "language": "python",
   "name": "python3"
  },
  "language_info": {
   "codemirror_mode": {
    "name": "ipython",
    "version": 3
   },
   "file_extension": ".py",
   "mimetype": "text/x-python",
   "name": "python",
   "nbconvert_exporter": "python",
   "pygments_lexer": "ipython3",
   "version": "3.8.10"
  },
  "orig_nbformat": 4
 },
 "nbformat": 4,
 "nbformat_minor": 2
}
