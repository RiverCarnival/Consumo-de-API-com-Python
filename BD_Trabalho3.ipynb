{
 "cells": [
  {
   "cell_type": "code",
   "execution_count": 191,
   "metadata": {},
   "outputs": [],
   "source": [
    "import requests\n",
    "import pprint as pp\n",
    "import time\n",
    "import pandas as pd\n",
    "import matplotlib.pyplot as plt\n",
    "import numpy as np\n",
    "\n",
    "api_key = \"08139dcdb3msh3a387961b7326e5p1f355ejsnfcb2a93b9426\"\n",
    "\n",
    "headers = {\n",
    "\t\"X-RapidAPI-Host\": \"wft-geo-db.p.rapidapi.com\",\n",
    "\t\"X-RapidAPI-Key\": api_key\n",
    "}\n"
   ]
  },
  {
   "cell_type": "code",
   "execution_count": 126,
   "metadata": {},
   "outputs": [],
   "source": [
    "def siglas_estados(sigla):\n",
    "    list_state = []\n",
    "    url = \"https://wft-geo-db.p.rapidapi.com/v1/geo/countries/\"+ sigla + \"/regions\"\n",
    "\n",
    "    i = 0\n",
    "    while(i < 3):\n",
    "        triste = i * 10\n",
    "        querystring = {\"limit\":\"10\", \"offset\": f\"{triste}\"}\n",
    "    \n",
    "        response = requests.request(\"GET\", url, headers=headers, params=querystring)\n",
    "        region = response.json()\n",
    "\n",
    "        z = region[\"data\"]\n",
    "\n",
    "        for j in z:\n",
    "            list_state.append(j[\"isoCode\"])\n",
    "        i += 1\n",
    "        time.sleep(3)    \n",
    "    \n",
    "    return list_state\n",
    "\n"
   ]
  },
  {
   "cell_type": "code",
   "execution_count": 127,
   "metadata": {},
   "outputs": [],
   "source": [
    "sigla = \"BR\"\n",
    "ms = siglas_estados(sigla)"
   ]
  },
  {
   "cell_type": "code",
   "execution_count": 80,
   "metadata": {},
   "outputs": [],
   "source": [
    "def cidades(sigla, ms, limit=10):\n",
    "    lista_cidades = []\n",
    "\n",
    "    j = 0\n",
    "    while(j < len(ms)):\n",
    "        region_code = ms[j]\n",
    "        url = \"https://wft-geo-db.p.rapidapi.com/v1/\" + \"geo/countries/\" + sigla + \"/regions/\" + region_code  + \"/cities\"\n",
    "        querystring = {\n",
    "            \"countryIds\": sigla,\n",
    "            \"sort\": \"-population\",\n",
    "            \"limit\": limit\n",
    "            }\n",
    "        response = requests.request(\"GET\", url, headers=headers, params=querystring)\n",
    "        paises_pop = response.json()[\"data\"]\n",
    "\n",
    "        for i in paises_pop:\n",
    "            lista_cidades.append(\n",
    "                {\n",
    "                    \"id\": i[\"wikiDataId\"],\n",
    "                    \"name\": i[\"name\"],\n",
    "                    \"population\": i[\"population\"],\n",
    "                    \"state\": region_code,\n",
    "                    \"country\": sigla,\n",
    "                    \"latitude\": i[\"latitude\"],\n",
    "                    \"longitude\": i[\"longitude\"]\n",
    "                }\n",
    "            )\n",
    "        j = j + 1\n",
    "        time.sleep(2)\n",
    "\n",
    "    return lista_cidades\n"
   ]
  },
  {
   "cell_type": "code",
   "execution_count": 81,
   "metadata": {},
   "outputs": [],
   "source": [
    "triste = cidades(sigla, ms)\n"
   ]
  },
  {
   "cell_type": "code",
   "execution_count": 82,
   "metadata": {},
   "outputs": [
    {
     "name": "stdout",
     "output_type": "stream",
     "text": [
      "           id                  name  population state country   latitude  \\\n",
      "0     Q171612            Rio Branco      413418    AC      BR  -9.978056   \n",
      "1     Q941136       Cruzeiro do Sul       82622    AC      BR  -7.630833   \n",
      "2    Q1754389        Sena Madureira       46511    AC      BR  -9.065833   \n",
      "3     Q979910              Tarauacá       40024    AC      BR  -8.160833   \n",
      "4    Q1994833                 Feijó       34884    AC      BR  -8.163889   \n",
      "..        ...                   ...         ...   ...     ...        ...   \n",
      "263  Q1783966            Araguatins       36170    TO      BR  -5.650833   \n",
      "264  Q1801758  Colinas do Tocantins       35851    TO      BR  -8.058889   \n",
      "265  Q1801179                Guaraí       26165    TO      BR  -8.833889   \n",
      "266   Q587927        Tocantinópolis       22845    TO      BR  -6.328889   \n",
      "267  Q1801150            Dianópolis       22424    TO      BR -11.627780   \n",
      "\n",
      "     longitude  \n",
      "0   -67.811667  \n",
      "1   -72.670000  \n",
      "2   -68.656944  \n",
      "3   -70.765833  \n",
      "4   -70.353889  \n",
      "..         ...  \n",
      "263 -48.123889  \n",
      "264 -48.475000  \n",
      "265 -48.510000  \n",
      "266 -47.415833  \n",
      "267 -46.820560  \n",
      "\n",
      "[268 rows x 7 columns]\n"
     ]
    }
   ],
   "source": [
    "df = pd.DataFrame(triste)\n",
    "\n",
    "print(df)"
   ]
  },
  {
   "cell_type": "code",
   "execution_count": 83,
   "metadata": {},
   "outputs": [],
   "source": [
    "df.to_csv('cidades.csv')"
   ]
  },
  {
   "cell_type": "code",
   "execution_count": 134,
   "metadata": {},
   "outputs": [
    {
     "data": {
      "text/html": [
       "<div>\n",
       "<style scoped>\n",
       "    .dataframe tbody tr th:only-of-type {\n",
       "        vertical-align: middle;\n",
       "    }\n",
       "\n",
       "    .dataframe tbody tr th {\n",
       "        vertical-align: top;\n",
       "    }\n",
       "\n",
       "    .dataframe thead th {\n",
       "        text-align: right;\n",
       "    }\n",
       "</style>\n",
       "<table border=\"1\" class=\"dataframe\">\n",
       "  <thead>\n",
       "    <tr style=\"text-align: right;\">\n",
       "      <th></th>\n",
       "      <th>Unnamed: 0.1</th>\n",
       "      <th>Unnamed: 0</th>\n",
       "      <th>id</th>\n",
       "      <th>name</th>\n",
       "      <th>population</th>\n",
       "      <th>state</th>\n",
       "      <th>country</th>\n",
       "      <th>latitude</th>\n",
       "      <th>longitude</th>\n",
       "    </tr>\n",
       "  </thead>\n",
       "  <tbody>\n",
       "    <tr>\n",
       "      <th>0</th>\n",
       "      <td>0</td>\n",
       "      <td>0</td>\n",
       "      <td>Q171612</td>\n",
       "      <td>Rio Branco</td>\n",
       "      <td>413418</td>\n",
       "      <td>AC</td>\n",
       "      <td>BR</td>\n",
       "      <td>-9.978056</td>\n",
       "      <td>-67.811667</td>\n",
       "    </tr>\n",
       "    <tr>\n",
       "      <th>1</th>\n",
       "      <td>1</td>\n",
       "      <td>1</td>\n",
       "      <td>Q941136</td>\n",
       "      <td>Cruzeiro do Sul</td>\n",
       "      <td>82622</td>\n",
       "      <td>AC</td>\n",
       "      <td>BR</td>\n",
       "      <td>-7.630833</td>\n",
       "      <td>-72.670000</td>\n",
       "    </tr>\n",
       "    <tr>\n",
       "      <th>2</th>\n",
       "      <td>2</td>\n",
       "      <td>2</td>\n",
       "      <td>Q1754389</td>\n",
       "      <td>Sena Madureira</td>\n",
       "      <td>46511</td>\n",
       "      <td>AC</td>\n",
       "      <td>BR</td>\n",
       "      <td>-9.065833</td>\n",
       "      <td>-68.656944</td>\n",
       "    </tr>\n",
       "    <tr>\n",
       "      <th>3</th>\n",
       "      <td>3</td>\n",
       "      <td>3</td>\n",
       "      <td>Q979910</td>\n",
       "      <td>Tarauacá</td>\n",
       "      <td>40024</td>\n",
       "      <td>AC</td>\n",
       "      <td>BR</td>\n",
       "      <td>-8.160833</td>\n",
       "      <td>-70.765833</td>\n",
       "    </tr>\n",
       "    <tr>\n",
       "      <th>4</th>\n",
       "      <td>4</td>\n",
       "      <td>4</td>\n",
       "      <td>Q1994833</td>\n",
       "      <td>Feijó</td>\n",
       "      <td>34884</td>\n",
       "      <td>AC</td>\n",
       "      <td>BR</td>\n",
       "      <td>-8.163889</td>\n",
       "      <td>-70.353889</td>\n",
       "    </tr>\n",
       "    <tr>\n",
       "      <th>...</th>\n",
       "      <td>...</td>\n",
       "      <td>...</td>\n",
       "      <td>...</td>\n",
       "      <td>...</td>\n",
       "      <td>...</td>\n",
       "      <td>...</td>\n",
       "      <td>...</td>\n",
       "      <td>...</td>\n",
       "      <td>...</td>\n",
       "    </tr>\n",
       "    <tr>\n",
       "      <th>262</th>\n",
       "      <td>263</td>\n",
       "      <td>263</td>\n",
       "      <td>Q1783966</td>\n",
       "      <td>Araguatins</td>\n",
       "      <td>36170</td>\n",
       "      <td>TO</td>\n",
       "      <td>BR</td>\n",
       "      <td>-5.650833</td>\n",
       "      <td>-48.123889</td>\n",
       "    </tr>\n",
       "    <tr>\n",
       "      <th>263</th>\n",
       "      <td>264</td>\n",
       "      <td>264</td>\n",
       "      <td>Q1801758</td>\n",
       "      <td>Colinas do Tocantins</td>\n",
       "      <td>35851</td>\n",
       "      <td>TO</td>\n",
       "      <td>BR</td>\n",
       "      <td>-8.058889</td>\n",
       "      <td>-48.475000</td>\n",
       "    </tr>\n",
       "    <tr>\n",
       "      <th>264</th>\n",
       "      <td>265</td>\n",
       "      <td>265</td>\n",
       "      <td>Q1801179</td>\n",
       "      <td>Guaraí</td>\n",
       "      <td>26165</td>\n",
       "      <td>TO</td>\n",
       "      <td>BR</td>\n",
       "      <td>-8.833889</td>\n",
       "      <td>-48.510000</td>\n",
       "    </tr>\n",
       "    <tr>\n",
       "      <th>265</th>\n",
       "      <td>266</td>\n",
       "      <td>266</td>\n",
       "      <td>Q587927</td>\n",
       "      <td>Tocantinópolis</td>\n",
       "      <td>22845</td>\n",
       "      <td>TO</td>\n",
       "      <td>BR</td>\n",
       "      <td>-6.328889</td>\n",
       "      <td>-47.415833</td>\n",
       "    </tr>\n",
       "    <tr>\n",
       "      <th>266</th>\n",
       "      <td>267</td>\n",
       "      <td>267</td>\n",
       "      <td>Q1801150</td>\n",
       "      <td>Dianópolis</td>\n",
       "      <td>22424</td>\n",
       "      <td>TO</td>\n",
       "      <td>BR</td>\n",
       "      <td>-11.627780</td>\n",
       "      <td>-46.820560</td>\n",
       "    </tr>\n",
       "  </tbody>\n",
       "</table>\n",
       "<p>267 rows × 9 columns</p>\n",
       "</div>"
      ],
      "text/plain": [
       "     Unnamed: 0.1  Unnamed: 0        id                  name  population  \\\n",
       "0               0           0   Q171612            Rio Branco      413418   \n",
       "1               1           1   Q941136       Cruzeiro do Sul       82622   \n",
       "2               2           2  Q1754389        Sena Madureira       46511   \n",
       "3               3           3   Q979910              Tarauacá       40024   \n",
       "4               4           4  Q1994833                 Feijó       34884   \n",
       "..            ...         ...       ...                   ...         ...   \n",
       "262           263         263  Q1783966            Araguatins       36170   \n",
       "263           264         264  Q1801758  Colinas do Tocantins       35851   \n",
       "264           265         265  Q1801179                Guaraí       26165   \n",
       "265           266         266   Q587927        Tocantinópolis       22845   \n",
       "266           267         267  Q1801150            Dianópolis       22424   \n",
       "\n",
       "    state country   latitude  longitude  \n",
       "0      AC      BR  -9.978056 -67.811667  \n",
       "1      AC      BR  -7.630833 -72.670000  \n",
       "2      AC      BR  -9.065833 -68.656944  \n",
       "3      AC      BR  -8.160833 -70.765833  \n",
       "4      AC      BR  -8.163889 -70.353889  \n",
       "..    ...     ...        ...        ...  \n",
       "262    TO      BR  -5.650833 -48.123889  \n",
       "263    TO      BR  -8.058889 -48.475000  \n",
       "264    TO      BR  -8.833889 -48.510000  \n",
       "265    TO      BR  -6.328889 -47.415833  \n",
       "266    TO      BR -11.627780 -46.820560  \n",
       "\n",
       "[267 rows x 9 columns]"
      ]
     },
     "execution_count": 134,
     "metadata": {},
     "output_type": "execute_result"
    }
   ],
   "source": [
    "dft = pd.read_csv('cidades.csv')\n",
    "dft"
   ]
  },
  {
   "cell_type": "code",
   "execution_count": 107,
   "metadata": {},
   "outputs": [],
   "source": [
    "dft.drop(dft.loc[dft['name'] == 'Greater Rio de Janeiro'].index, inplace= True)\n",
    "\n"
   ]
  },
  {
   "cell_type": "code",
   "execution_count": 129,
   "metadata": {},
   "outputs": [
    {
     "data": {
      "text/html": [
       "<div>\n",
       "<style scoped>\n",
       "    .dataframe tbody tr th:only-of-type {\n",
       "        vertical-align: middle;\n",
       "    }\n",
       "\n",
       "    .dataframe tbody tr th {\n",
       "        vertical-align: top;\n",
       "    }\n",
       "\n",
       "    .dataframe thead th {\n",
       "        text-align: right;\n",
       "    }\n",
       "</style>\n",
       "<table border=\"1\" class=\"dataframe\">\n",
       "  <thead>\n",
       "    <tr style=\"text-align: right;\">\n",
       "      <th></th>\n",
       "      <th>Unnamed: 0.1</th>\n",
       "      <th>Unnamed: 0</th>\n",
       "      <th>id</th>\n",
       "      <th>name</th>\n",
       "      <th>population</th>\n",
       "      <th>state</th>\n",
       "      <th>country</th>\n",
       "      <th>latitude</th>\n",
       "      <th>longitude</th>\n",
       "    </tr>\n",
       "  </thead>\n",
       "  <tbody>\n",
       "  </tbody>\n",
       "</table>\n",
       "</div>"
      ],
      "text/plain": [
       "Empty DataFrame\n",
       "Columns: [Unnamed: 0.1, Unnamed: 0, id, name, population, state, country, latitude, longitude]\n",
       "Index: []"
      ]
     },
     "execution_count": 129,
     "metadata": {},
     "output_type": "execute_result"
    }
   ],
   "source": [
    "dft.loc[dft['name'] == 'Greater Rio de Janeiro']"
   ]
  },
  {
   "cell_type": "code",
   "execution_count": 109,
   "metadata": {},
   "outputs": [],
   "source": [
    "novo_dict = {\n",
    "\"id\": \"Q178725\",\n",
    "\"name\": \"Niterói\",\n",
    "\"population\": 515317,\n",
    "\"state\": \"RJ\",\n",
    "\"country\": \"BR\",\n",
    "\"latitude\": -22.91715,\n",
    "\"longitude\": -43.08391,\n",
    "}"
   ]
  },
  {
   "cell_type": "code",
   "execution_count": 115,
   "metadata": {},
   "outputs": [
    {
     "name": "stderr",
     "output_type": "stream",
     "text": [
      "/tmp/ipykernel_31202/1626547438.py:1: FutureWarning: The frame.append method is deprecated and will be removed from pandas in a future version. Use pandas.concat instead.\n",
      "  dft.append({\n"
     ]
    },
    {
     "data": {
      "text/html": [
       "<div>\n",
       "<style scoped>\n",
       "    .dataframe tbody tr th:only-of-type {\n",
       "        vertical-align: middle;\n",
       "    }\n",
       "\n",
       "    .dataframe tbody tr th {\n",
       "        vertical-align: top;\n",
       "    }\n",
       "\n",
       "    .dataframe thead th {\n",
       "        text-align: right;\n",
       "    }\n",
       "</style>\n",
       "<table border=\"1\" class=\"dataframe\">\n",
       "  <thead>\n",
       "    <tr style=\"text-align: right;\">\n",
       "      <th></th>\n",
       "      <th>Unnamed: 0</th>\n",
       "      <th>id</th>\n",
       "      <th>name</th>\n",
       "      <th>population</th>\n",
       "      <th>state</th>\n",
       "      <th>country</th>\n",
       "      <th>latitude</th>\n",
       "      <th>longitude</th>\n",
       "    </tr>\n",
       "  </thead>\n",
       "  <tbody>\n",
       "    <tr>\n",
       "      <th>0</th>\n",
       "      <td>0.0</td>\n",
       "      <td>Q171612</td>\n",
       "      <td>Rio Branco</td>\n",
       "      <td>413418</td>\n",
       "      <td>AC</td>\n",
       "      <td>BR</td>\n",
       "      <td>-9.978056</td>\n",
       "      <td>-67.811667</td>\n",
       "    </tr>\n",
       "    <tr>\n",
       "      <th>1</th>\n",
       "      <td>1.0</td>\n",
       "      <td>Q941136</td>\n",
       "      <td>Cruzeiro do Sul</td>\n",
       "      <td>82622</td>\n",
       "      <td>AC</td>\n",
       "      <td>BR</td>\n",
       "      <td>-7.630833</td>\n",
       "      <td>-72.670000</td>\n",
       "    </tr>\n",
       "    <tr>\n",
       "      <th>2</th>\n",
       "      <td>2.0</td>\n",
       "      <td>Q1754389</td>\n",
       "      <td>Sena Madureira</td>\n",
       "      <td>46511</td>\n",
       "      <td>AC</td>\n",
       "      <td>BR</td>\n",
       "      <td>-9.065833</td>\n",
       "      <td>-68.656944</td>\n",
       "    </tr>\n",
       "    <tr>\n",
       "      <th>3</th>\n",
       "      <td>3.0</td>\n",
       "      <td>Q979910</td>\n",
       "      <td>Tarauacá</td>\n",
       "      <td>40024</td>\n",
       "      <td>AC</td>\n",
       "      <td>BR</td>\n",
       "      <td>-8.160833</td>\n",
       "      <td>-70.765833</td>\n",
       "    </tr>\n",
       "    <tr>\n",
       "      <th>4</th>\n",
       "      <td>4.0</td>\n",
       "      <td>Q1994833</td>\n",
       "      <td>Feijó</td>\n",
       "      <td>34884</td>\n",
       "      <td>AC</td>\n",
       "      <td>BR</td>\n",
       "      <td>-8.163889</td>\n",
       "      <td>-70.353889</td>\n",
       "    </tr>\n",
       "    <tr>\n",
       "      <th>...</th>\n",
       "      <td>...</td>\n",
       "      <td>...</td>\n",
       "      <td>...</td>\n",
       "      <td>...</td>\n",
       "      <td>...</td>\n",
       "      <td>...</td>\n",
       "      <td>...</td>\n",
       "      <td>...</td>\n",
       "    </tr>\n",
       "    <tr>\n",
       "      <th>263</th>\n",
       "      <td>264.0</td>\n",
       "      <td>Q1801758</td>\n",
       "      <td>Colinas do Tocantins</td>\n",
       "      <td>35851</td>\n",
       "      <td>TO</td>\n",
       "      <td>BR</td>\n",
       "      <td>-8.058889</td>\n",
       "      <td>-48.475000</td>\n",
       "    </tr>\n",
       "    <tr>\n",
       "      <th>264</th>\n",
       "      <td>265.0</td>\n",
       "      <td>Q1801179</td>\n",
       "      <td>Guaraí</td>\n",
       "      <td>26165</td>\n",
       "      <td>TO</td>\n",
       "      <td>BR</td>\n",
       "      <td>-8.833889</td>\n",
       "      <td>-48.510000</td>\n",
       "    </tr>\n",
       "    <tr>\n",
       "      <th>265</th>\n",
       "      <td>266.0</td>\n",
       "      <td>Q587927</td>\n",
       "      <td>Tocantinópolis</td>\n",
       "      <td>22845</td>\n",
       "      <td>TO</td>\n",
       "      <td>BR</td>\n",
       "      <td>-6.328889</td>\n",
       "      <td>-47.415833</td>\n",
       "    </tr>\n",
       "    <tr>\n",
       "      <th>266</th>\n",
       "      <td>267.0</td>\n",
       "      <td>Q1801150</td>\n",
       "      <td>Dianópolis</td>\n",
       "      <td>22424</td>\n",
       "      <td>TO</td>\n",
       "      <td>BR</td>\n",
       "      <td>-11.627780</td>\n",
       "      <td>-46.820560</td>\n",
       "    </tr>\n",
       "    <tr>\n",
       "      <th>267</th>\n",
       "      <td>NaN</td>\n",
       "      <td>Q178725</td>\n",
       "      <td>Niterói</td>\n",
       "      <td>515317</td>\n",
       "      <td>RJ</td>\n",
       "      <td>BR</td>\n",
       "      <td>-22.917150</td>\n",
       "      <td>-43.083910</td>\n",
       "    </tr>\n",
       "  </tbody>\n",
       "</table>\n",
       "<p>268 rows × 8 columns</p>\n",
       "</div>"
      ],
      "text/plain": [
       "     Unnamed: 0        id                  name  population state country  \\\n",
       "0           0.0   Q171612            Rio Branco      413418    AC      BR   \n",
       "1           1.0   Q941136       Cruzeiro do Sul       82622    AC      BR   \n",
       "2           2.0  Q1754389        Sena Madureira       46511    AC      BR   \n",
       "3           3.0   Q979910              Tarauacá       40024    AC      BR   \n",
       "4           4.0  Q1994833                 Feijó       34884    AC      BR   \n",
       "..          ...       ...                   ...         ...   ...     ...   \n",
       "263       264.0  Q1801758  Colinas do Tocantins       35851    TO      BR   \n",
       "264       265.0  Q1801179                Guaraí       26165    TO      BR   \n",
       "265       266.0   Q587927        Tocantinópolis       22845    TO      BR   \n",
       "266       267.0  Q1801150            Dianópolis       22424    TO      BR   \n",
       "267         NaN   Q178725               Niterói      515317    RJ      BR   \n",
       "\n",
       "      latitude  longitude  \n",
       "0    -9.978056 -67.811667  \n",
       "1    -7.630833 -72.670000  \n",
       "2    -9.065833 -68.656944  \n",
       "3    -8.160833 -70.765833  \n",
       "4    -8.163889 -70.353889  \n",
       "..         ...        ...  \n",
       "263  -8.058889 -48.475000  \n",
       "264  -8.833889 -48.510000  \n",
       "265  -6.328889 -47.415833  \n",
       "266 -11.627780 -46.820560  \n",
       "267 -22.917150 -43.083910  \n",
       "\n",
       "[268 rows x 8 columns]"
      ]
     },
     "execution_count": 115,
     "metadata": {},
     "output_type": "execute_result"
    }
   ],
   "source": [
    "dft.append({\n",
    "\"id\": \"Q178725\",\n",
    "\"name\": \"Niterói\",\n",
    "\"population\": 515317,\n",
    "\"state\": \"RJ\",\n",
    "\"country\": \"BR\",\n",
    "\"latitude\": -22.91715,\n",
    "\"longitude\": -43.08391,\n",
    "}, ignore_index= True)"
   ]
  },
  {
   "cell_type": "code",
   "execution_count": 116,
   "metadata": {},
   "outputs": [
    {
     "data": {
      "text/html": [
       "<div>\n",
       "<style scoped>\n",
       "    .dataframe tbody tr th:only-of-type {\n",
       "        vertical-align: middle;\n",
       "    }\n",
       "\n",
       "    .dataframe tbody tr th {\n",
       "        vertical-align: top;\n",
       "    }\n",
       "\n",
       "    .dataframe thead th {\n",
       "        text-align: right;\n",
       "    }\n",
       "</style>\n",
       "<table border=\"1\" class=\"dataframe\">\n",
       "  <thead>\n",
       "    <tr style=\"text-align: right;\">\n",
       "      <th></th>\n",
       "      <th>Unnamed: 0</th>\n",
       "      <th>id</th>\n",
       "      <th>name</th>\n",
       "      <th>population</th>\n",
       "      <th>state</th>\n",
       "      <th>country</th>\n",
       "      <th>latitude</th>\n",
       "      <th>longitude</th>\n",
       "    </tr>\n",
       "  </thead>\n",
       "  <tbody>\n",
       "    <tr>\n",
       "      <th>203</th>\n",
       "      <td>203</td>\n",
       "      <td>Q178725</td>\n",
       "      <td>Niterói</td>\n",
       "      <td>515317</td>\n",
       "      <td>RJ</td>\n",
       "      <td>BR</td>\n",
       "      <td>-22.91715</td>\n",
       "      <td>-43.08391</td>\n",
       "    </tr>\n",
       "  </tbody>\n",
       "</table>\n",
       "</div>"
      ],
      "text/plain": [
       "     Unnamed: 0       id     name  population state country  latitude  \\\n",
       "203         203  Q178725  Niterói      515317    RJ      BR -22.91715   \n",
       "\n",
       "     longitude  \n",
       "203  -43.08391  "
      ]
     },
     "execution_count": 116,
     "metadata": {},
     "output_type": "execute_result"
    }
   ],
   "source": [
    "dft.loc[dft['name'] == 'Niterói']"
   ]
  },
  {
   "cell_type": "code",
   "execution_count": 132,
   "metadata": {},
   "outputs": [],
   "source": [
    "dft.to_csv('cidades.csv', index= False)"
   ]
  },
  {
   "cell_type": "code",
   "execution_count": 118,
   "metadata": {},
   "outputs": [
    {
     "data": {
      "text/html": [
       "<div>\n",
       "<style scoped>\n",
       "    .dataframe tbody tr th:only-of-type {\n",
       "        vertical-align: middle;\n",
       "    }\n",
       "\n",
       "    .dataframe tbody tr th {\n",
       "        vertical-align: top;\n",
       "    }\n",
       "\n",
       "    .dataframe thead th {\n",
       "        text-align: right;\n",
       "    }\n",
       "</style>\n",
       "<table border=\"1\" class=\"dataframe\">\n",
       "  <thead>\n",
       "    <tr style=\"text-align: right;\">\n",
       "      <th></th>\n",
       "      <th>Unnamed: 0</th>\n",
       "      <th>id</th>\n",
       "      <th>name</th>\n",
       "      <th>population</th>\n",
       "      <th>state</th>\n",
       "      <th>country</th>\n",
       "      <th>latitude</th>\n",
       "      <th>longitude</th>\n",
       "    </tr>\n",
       "  </thead>\n",
       "  <tbody>\n",
       "    <tr>\n",
       "      <th>199</th>\n",
       "      <td>199</td>\n",
       "      <td>Q8678</td>\n",
       "      <td>Rio de Janeiro</td>\n",
       "      <td>6747815</td>\n",
       "      <td>RJ</td>\n",
       "      <td>BR</td>\n",
       "      <td>-22.908333</td>\n",
       "      <td>-43.196389</td>\n",
       "    </tr>\n",
       "    <tr>\n",
       "      <th>200</th>\n",
       "      <td>200</td>\n",
       "      <td>Q83114</td>\n",
       "      <td>São Gonçalo</td>\n",
       "      <td>1091737</td>\n",
       "      <td>RJ</td>\n",
       "      <td>BR</td>\n",
       "      <td>-22.826944</td>\n",
       "      <td>-43.053889</td>\n",
       "    </tr>\n",
       "    <tr>\n",
       "      <th>201</th>\n",
       "      <td>201</td>\n",
       "      <td>Q193021</td>\n",
       "      <td>Duque de Caxias</td>\n",
       "      <td>924624</td>\n",
       "      <td>RJ</td>\n",
       "      <td>BR</td>\n",
       "      <td>-22.785560</td>\n",
       "      <td>-43.311670</td>\n",
       "    </tr>\n",
       "    <tr>\n",
       "      <th>202</th>\n",
       "      <td>202</td>\n",
       "      <td>Q188897</td>\n",
       "      <td>Nova Iguaçu</td>\n",
       "      <td>823302</td>\n",
       "      <td>RJ</td>\n",
       "      <td>BR</td>\n",
       "      <td>-22.758889</td>\n",
       "      <td>-43.450833</td>\n",
       "    </tr>\n",
       "    <tr>\n",
       "      <th>203</th>\n",
       "      <td>203</td>\n",
       "      <td>Q178725</td>\n",
       "      <td>Niterói</td>\n",
       "      <td>515317</td>\n",
       "      <td>RJ</td>\n",
       "      <td>BR</td>\n",
       "      <td>-22.917150</td>\n",
       "      <td>-43.083910</td>\n",
       "    </tr>\n",
       "    <tr>\n",
       "      <th>204</th>\n",
       "      <td>204</td>\n",
       "      <td>Q737636</td>\n",
       "      <td>Belford Roxo</td>\n",
       "      <td>513118</td>\n",
       "      <td>RJ</td>\n",
       "      <td>BR</td>\n",
       "      <td>-22.763889</td>\n",
       "      <td>-43.398889</td>\n",
       "    </tr>\n",
       "    <tr>\n",
       "      <th>205</th>\n",
       "      <td>205</td>\n",
       "      <td>Q459690</td>\n",
       "      <td>São João de Meriti</td>\n",
       "      <td>472906</td>\n",
       "      <td>RJ</td>\n",
       "      <td>BR</td>\n",
       "      <td>-22.803889</td>\n",
       "      <td>-43.371944</td>\n",
       "    </tr>\n",
       "    <tr>\n",
       "      <th>206</th>\n",
       "      <td>206</td>\n",
       "      <td>Q22047120</td>\n",
       "      <td>Campos</td>\n",
       "      <td>387417</td>\n",
       "      <td>RJ</td>\n",
       "      <td>BR</td>\n",
       "      <td>-21.752270</td>\n",
       "      <td>-41.330440</td>\n",
       "    </tr>\n",
       "    <tr>\n",
       "      <th>207</th>\n",
       "      <td>207</td>\n",
       "      <td>Q189043</td>\n",
       "      <td>Petrópolis</td>\n",
       "      <td>306678</td>\n",
       "      <td>RJ</td>\n",
       "      <td>BR</td>\n",
       "      <td>-22.505000</td>\n",
       "      <td>-43.178889</td>\n",
       "    </tr>\n",
       "  </tbody>\n",
       "</table>\n",
       "</div>"
      ],
      "text/plain": [
       "     Unnamed: 0         id                name  population state country  \\\n",
       "199         199      Q8678      Rio de Janeiro     6747815    RJ      BR   \n",
       "200         200     Q83114         São Gonçalo     1091737    RJ      BR   \n",
       "201         201    Q193021     Duque de Caxias      924624    RJ      BR   \n",
       "202         202    Q188897         Nova Iguaçu      823302    RJ      BR   \n",
       "203         203    Q178725             Niterói      515317    RJ      BR   \n",
       "204         204    Q737636        Belford Roxo      513118    RJ      BR   \n",
       "205         205    Q459690  São João de Meriti      472906    RJ      BR   \n",
       "206         206  Q22047120              Campos      387417    RJ      BR   \n",
       "207         207    Q189043          Petrópolis      306678    RJ      BR   \n",
       "\n",
       "      latitude  longitude  \n",
       "199 -22.908333 -43.196389  \n",
       "200 -22.826944 -43.053889  \n",
       "201 -22.785560 -43.311670  \n",
       "202 -22.758889 -43.450833  \n",
       "203 -22.917150 -43.083910  \n",
       "204 -22.763889 -43.398889  \n",
       "205 -22.803889 -43.371944  \n",
       "206 -21.752270 -41.330440  \n",
       "207 -22.505000 -43.178889  "
      ]
     },
     "execution_count": 118,
     "metadata": {},
     "output_type": "execute_result"
    }
   ],
   "source": [
    "dft.loc[dft['state'] == 'RJ']"
   ]
  },
  {
   "cell_type": "code",
   "execution_count": 135,
   "metadata": {},
   "outputs": [
    {
     "data": {
      "text/html": [
       "<div>\n",
       "<style scoped>\n",
       "    .dataframe tbody tr th:only-of-type {\n",
       "        vertical-align: middle;\n",
       "    }\n",
       "\n",
       "    .dataframe tbody tr th {\n",
       "        vertical-align: top;\n",
       "    }\n",
       "\n",
       "    .dataframe thead th {\n",
       "        text-align: right;\n",
       "    }\n",
       "</style>\n",
       "<table border=\"1\" class=\"dataframe\">\n",
       "  <thead>\n",
       "    <tr style=\"text-align: right;\">\n",
       "      <th></th>\n",
       "      <th>Unnamed: 0.1</th>\n",
       "      <th>Unnamed: 0</th>\n",
       "      <th>population</th>\n",
       "      <th>latitude</th>\n",
       "      <th>longitude</th>\n",
       "    </tr>\n",
       "    <tr>\n",
       "      <th>state</th>\n",
       "      <th></th>\n",
       "      <th></th>\n",
       "      <th></th>\n",
       "      <th></th>\n",
       "      <th></th>\n",
       "    </tr>\n",
       "  </thead>\n",
       "  <tbody>\n",
       "    <tr>\n",
       "      <th>AC</th>\n",
       "      <td>45</td>\n",
       "      <td>45</td>\n",
       "      <td>725655</td>\n",
       "      <td>-90.166922</td>\n",
       "      <td>-700.790188</td>\n",
       "    </tr>\n",
       "    <tr>\n",
       "      <th>AL</th>\n",
       "      <td>145</td>\n",
       "      <td>145</td>\n",
       "      <td>1753016</td>\n",
       "      <td>-97.329480</td>\n",
       "      <td>-363.846864</td>\n",
       "    </tr>\n",
       "    <tr>\n",
       "      <th>AM</th>\n",
       "      <td>345</td>\n",
       "      <td>345</td>\n",
       "      <td>2906951</td>\n",
       "      <td>-39.536666</td>\n",
       "      <td>-605.892820</td>\n",
       "    </tr>\n",
       "    <tr>\n",
       "      <th>AP</th>\n",
       "      <td>245</td>\n",
       "      <td>245</td>\n",
       "      <td>822167</td>\n",
       "      <td>7.441847</td>\n",
       "      <td>-515.526422</td>\n",
       "    </tr>\n",
       "    <tr>\n",
       "      <th>BA</th>\n",
       "      <td>445</td>\n",
       "      <td>445</td>\n",
       "      <td>5176564</td>\n",
       "      <td>-134.371943</td>\n",
       "      <td>-398.531662</td>\n",
       "    </tr>\n",
       "    <tr>\n",
       "      <th>CE</th>\n",
       "      <td>545</td>\n",
       "      <td>545</td>\n",
       "      <td>4340446</td>\n",
       "      <td>-48.411111</td>\n",
       "      <td>-391.733611</td>\n",
       "    </tr>\n",
       "    <tr>\n",
       "      <th>DF</th>\n",
       "      <td>588</td>\n",
       "      <td>588</td>\n",
       "      <td>3015268</td>\n",
       "      <td>-126.419960</td>\n",
       "      <td>-383.926860</td>\n",
       "    </tr>\n",
       "    <tr>\n",
       "      <th>ES</th>\n",
       "      <td>645</td>\n",
       "      <td>645</td>\n",
       "      <td>2639846</td>\n",
       "      <td>-200.084344</td>\n",
       "      <td>-403.930567</td>\n",
       "    </tr>\n",
       "    <tr>\n",
       "      <th>GO</th>\n",
       "      <td>825</td>\n",
       "      <td>825</td>\n",
       "      <td>3560126</td>\n",
       "      <td>-167.832777</td>\n",
       "      <td>-487.083890</td>\n",
       "    </tr>\n",
       "    <tr>\n",
       "      <th>MA</th>\n",
       "      <td>925</td>\n",
       "      <td>925</td>\n",
       "      <td>2415310</td>\n",
       "      <td>-44.262222</td>\n",
       "      <td>-448.339722</td>\n",
       "    </tr>\n",
       "    <tr>\n",
       "      <th>MG</th>\n",
       "      <td>1225</td>\n",
       "      <td>1225</td>\n",
       "      <td>7077501</td>\n",
       "      <td>-194.553877</td>\n",
       "      <td>-447.114629</td>\n",
       "    </tr>\n",
       "    <tr>\n",
       "      <th>MS</th>\n",
       "      <td>1125</td>\n",
       "      <td>1125</td>\n",
       "      <td>1682503</td>\n",
       "      <td>-213.336261</td>\n",
       "      <td>-547.959213</td>\n",
       "    </tr>\n",
       "    <tr>\n",
       "      <th>MT</th>\n",
       "      <td>1025</td>\n",
       "      <td>1025</td>\n",
       "      <td>1728960</td>\n",
       "      <td>-147.280278</td>\n",
       "      <td>-555.758611</td>\n",
       "    </tr>\n",
       "    <tr>\n",
       "      <th>PA</th>\n",
       "      <td>1525</td>\n",
       "      <td>1525</td>\n",
       "      <td>3532732</td>\n",
       "      <td>-24.377500</td>\n",
       "      <td>-492.018611</td>\n",
       "    </tr>\n",
       "    <tr>\n",
       "      <th>PB</th>\n",
       "      <td>1425</td>\n",
       "      <td>1425</td>\n",
       "      <td>1880564</td>\n",
       "      <td>-70.203889</td>\n",
       "      <td>-360.301667</td>\n",
       "    </tr>\n",
       "    <tr>\n",
       "      <th>PE</th>\n",
       "      <td>1625</td>\n",
       "      <td>1625</td>\n",
       "      <td>4411898</td>\n",
       "      <td>-83.117226</td>\n",
       "      <td>-357.923610</td>\n",
       "    </tr>\n",
       "    <tr>\n",
       "      <th>PI</th>\n",
       "      <td>1725</td>\n",
       "      <td>1725</td>\n",
       "      <td>1439120</td>\n",
       "      <td>-48.169347</td>\n",
       "      <td>-421.809931</td>\n",
       "    </tr>\n",
       "    <tr>\n",
       "      <th>PR</th>\n",
       "      <td>1325</td>\n",
       "      <td>1325</td>\n",
       "      <td>4814493</td>\n",
       "      <td>-249.493760</td>\n",
       "      <td>-508.990926</td>\n",
       "    </tr>\n",
       "    <tr>\n",
       "      <th>RJ</th>\n",
       "      <td>1827</td>\n",
       "      <td>1827</td>\n",
       "      <td>11782914</td>\n",
       "      <td>-204.021924</td>\n",
       "      <td>-387.376853</td>\n",
       "    </tr>\n",
       "    <tr>\n",
       "      <th>RN</th>\n",
       "      <td>1825</td>\n",
       "      <td>1825</td>\n",
       "      <td>1917377</td>\n",
       "      <td>-58.553337</td>\n",
       "      <td>-359.683332</td>\n",
       "    </tr>\n",
       "    <tr>\n",
       "      <th>RO</th>\n",
       "      <td>2125</td>\n",
       "      <td>2125</td>\n",
       "      <td>1177483</td>\n",
       "      <td>-109.213485</td>\n",
       "      <td>-624.331647</td>\n",
       "    </tr>\n",
       "    <tr>\n",
       "      <th>RR</th>\n",
       "      <td>2225</td>\n",
       "      <td>2225</td>\n",
       "      <td>582019</td>\n",
       "      <td>27.236389</td>\n",
       "      <td>-608.455278</td>\n",
       "    </tr>\n",
       "    <tr>\n",
       "      <th>RS</th>\n",
       "      <td>1925</td>\n",
       "      <td>1925</td>\n",
       "      <td>4218287</td>\n",
       "      <td>-302.073333</td>\n",
       "      <td>-516.131944</td>\n",
       "    </tr>\n",
       "    <tr>\n",
       "      <th>SC</th>\n",
       "      <td>2325</td>\n",
       "      <td>2325</td>\n",
       "      <td>2921478</td>\n",
       "      <td>-273.629449</td>\n",
       "      <td>-494.294720</td>\n",
       "    </tr>\n",
       "    <tr>\n",
       "      <th>SE</th>\n",
       "      <td>2425</td>\n",
       "      <td>2425</td>\n",
       "      <td>1365034</td>\n",
       "      <td>-107.976700</td>\n",
       "      <td>-374.233056</td>\n",
       "    </tr>\n",
       "    <tr>\n",
       "      <th>SP</th>\n",
       "      <td>2525</td>\n",
       "      <td>2525</td>\n",
       "      <td>19932964</td>\n",
       "      <td>-232.342668</td>\n",
       "      <td>-468.006438</td>\n",
       "    </tr>\n",
       "    <tr>\n",
       "      <th>TO</th>\n",
       "      <td>2625</td>\n",
       "      <td>2625</td>\n",
       "      <td>825884</td>\n",
       "      <td>-90.516391</td>\n",
       "      <td>-482.265282</td>\n",
       "    </tr>\n",
       "  </tbody>\n",
       "</table>\n",
       "</div>"
      ],
      "text/plain": [
       "       Unnamed: 0.1  Unnamed: 0  population    latitude   longitude\n",
       "state                                                              \n",
       "AC               45          45      725655  -90.166922 -700.790188\n",
       "AL              145         145     1753016  -97.329480 -363.846864\n",
       "AM              345         345     2906951  -39.536666 -605.892820\n",
       "AP              245         245      822167    7.441847 -515.526422\n",
       "BA              445         445     5176564 -134.371943 -398.531662\n",
       "CE              545         545     4340446  -48.411111 -391.733611\n",
       "DF              588         588     3015268 -126.419960 -383.926860\n",
       "ES              645         645     2639846 -200.084344 -403.930567\n",
       "GO              825         825     3560126 -167.832777 -487.083890\n",
       "MA              925         925     2415310  -44.262222 -448.339722\n",
       "MG             1225        1225     7077501 -194.553877 -447.114629\n",
       "MS             1125        1125     1682503 -213.336261 -547.959213\n",
       "MT             1025        1025     1728960 -147.280278 -555.758611\n",
       "PA             1525        1525     3532732  -24.377500 -492.018611\n",
       "PB             1425        1425     1880564  -70.203889 -360.301667\n",
       "PE             1625        1625     4411898  -83.117226 -357.923610\n",
       "PI             1725        1725     1439120  -48.169347 -421.809931\n",
       "PR             1325        1325     4814493 -249.493760 -508.990926\n",
       "RJ             1827        1827    11782914 -204.021924 -387.376853\n",
       "RN             1825        1825     1917377  -58.553337 -359.683332\n",
       "RO             2125        2125     1177483 -109.213485 -624.331647\n",
       "RR             2225        2225      582019   27.236389 -608.455278\n",
       "RS             1925        1925     4218287 -302.073333 -516.131944\n",
       "SC             2325        2325     2921478 -273.629449 -494.294720\n",
       "SE             2425        2425     1365034 -107.976700 -374.233056\n",
       "SP             2525        2525    19932964 -232.342668 -468.006438\n",
       "TO             2625        2625      825884  -90.516391 -482.265282"
      ]
     },
     "execution_count": 135,
     "metadata": {},
     "output_type": "execute_result"
    }
   ],
   "source": [
    "dft.groupby('state').sum('population')"
   ]
  },
  {
   "cell_type": "code",
   "execution_count": 136,
   "metadata": {},
   "outputs": [],
   "source": [
    "import plotly_express as px"
   ]
  },
  {
   "cell_type": "code",
   "execution_count": 144,
   "metadata": {},
   "outputs": [
    {
     "data": {
      "application/vnd.plotly.v1+json": {
       "config": {
        "plotlyServerURL": "https://plot.ly"
       },
       "data": [
        {
         "geo": "geo",
         "hovertemplate": "<b>%{hovertext}</b><br><br>latitude=%{lat}<br>longitude=%{lon}<extra></extra>",
         "hovertext": [
          "Rio Branco",
          "Cruzeiro do Sul",
          "Sena Madureira",
          "Tarauacá",
          "Feijó",
          "Brasiléia",
          "Senador Guiomard",
          "Xapuri",
          "Rodrigues Alves",
          "Mâncio Lima",
          "Maceió",
          "Arapiraca",
          "Rio Largo",
          "Palmeira dos Índios",
          "Penedo",
          "São Miguel dos Campos",
          "Campo Alegre",
          "Coruripe",
          "Delmiro Gouveia",
          "Marechal Deodoro",
          "Macapá",
          "Santana",
          "Laranjal do Jari",
          "Oiapoque",
          "Porto Grande",
          "Mazagão",
          "Tartarugalzinho",
          "Pedra Branca do Amapari",
          "Vitória do Jari",
          "Calçoene",
          "Manaus",
          "Parintins",
          "Itacoatiara",
          "Manacapuru",
          "Coari",
          "Maués",
          "Tefé",
          "Manicoré",
          "Humaitá",
          "Iranduba",
          "Salvador",
          "Feira de Santana",
          "Camaçari",
          "Vitória da Conquista",
          "Juazeiro",
          "Itabuna",
          "Lauro de Freitas",
          "Teixeira de Freitas",
          "Ilhéus",
          "Barreiras",
          "Fortaleza",
          "Caucaia",
          "Juazeiro do Norte",
          "Maracanaú",
          "Sobral",
          "Crato",
          "Itapipoca",
          "Maranguape",
          "Iguatu",
          "Quixeramobim",
          "Serra",
          "Vila Velha",
          "Cariacica",
          "Vitoria",
          "Cachoeiro de Itapemirim",
          "Linhares",
          "São Mateus",
          "Guarapari",
          "Colatina",
          "Aracruz",
          "Brasília",
          "Brazlândia",
          "Ceilândia",
          "Gama",
          "Núcleo Bandeirante",
          "Paranoá",
          "Sobradinho",
          "Taguatinga",
          "Goiânia",
          "Aparecida de Goiânia",
          "Anápolis",
          "Águas Lindas de Goiás",
          "Rio Verde",
          "Luziânia",
          "Valparaíso de Goiás",
          "Formosa",
          "Catalão",
          "Itumbiara",
          "São Luís",
          "Imperatriz",
          "São José de Ribamar",
          "Timon",
          "Caxias",
          "Codó",
          "Açailândia",
          "Paço do Lumiar",
          "Bacabal",
          "Balsas",
          "Cuiabá",
          "Várzea Grande (Mato Grosso)",
          "Rondonópolis",
          "Sinop",
          "Tangará da Serra",
          "Sorriso",
          "Cáceres",
          "Primavera do Leste",
          "Barra do Garças",
          "Lucas do Rio Verde",
          "Campo Grande",
          "Dourados",
          "Corumbá",
          "Ponta Porã",
          "Três Lagoas",
          "Sidrolândia",
          "Naviraí",
          "Nova Andradina",
          "Aquidauana",
          "Maracaju",
          "Belo Horizonte",
          "Abaeté",
          "Uberlândia",
          "Contagem",
          "Juiz de Fora",
          "Betim",
          "Montes Claros",
          "Ribeirão das Neves",
          "Uberaba",
          "Governador Valadares",
          "Curitiba",
          "Londrina",
          "Maringá",
          "Ponta Grossa",
          "Cascavel",
          "São José dos Pinhais",
          "Foz do Iguaçu",
          "Colombo",
          "Guarapuava",
          "Paranaguá",
          "João Pessoa",
          "Campina Grande",
          "Santa Rita",
          "Patos",
          "Bayeux",
          "Sousa",
          "Cabedelo",
          "Cajazeiras",
          "Guarabira",
          "Sapé",
          "Belém",
          "Ananindeua",
          "Santarém",
          "Marabá",
          "Castanhal",
          "Abaetetuba",
          "Parauapebas",
          "Cametá",
          "Marituba",
          "Bragança",
          "Recife",
          "Jaboatão dos Guararapes",
          "Olinda",
          "Caruaru",
          "Petrolina",
          "Paulista",
          "Cabo de Santo Agostinho",
          "Camaragibe",
          "Garanhuns",
          "Vitória de Santo Antão",
          "Teresina",
          "Parnaíba",
          "Picos",
          "Piripiri",
          "Floriano",
          "Barras",
          "Campo Maior",
          "União",
          "Esperantina",
          "Pedro II",
          "Natal",
          "Mossoró",
          "Parnamirim",
          "São Gonçalo do Amarante",
          "Macaíba",
          "Ceará-Mirim",
          "Caicó",
          "Assu",
          "Currais Novos",
          "São José de Mipibu",
          "Porto Alegre",
          "Caxias do Sul",
          "Canoas",
          "Pelotas",
          "Santa Maria",
          "Gravataí",
          "Viamão",
          "Novo Hamburgo",
          "São Leopoldo",
          "Rio Grande",
          "Rio de Janeiro",
          "São Gonçalo",
          "Duque de Caxias",
          "Nova Iguaçu",
          "Niterói",
          "Belford Roxo",
          "São João de Meriti",
          "Campos",
          "Petrópolis",
          "Porto Velho",
          "Ji-Paraná",
          "Ariquemes",
          "Vilhena",
          "Cacoal",
          "Jaru",
          "Rolim de Moura",
          "Guajará-Mirim",
          "Machadinho d'Oeste",
          "Pôsto Fiscal Rolim de Moura",
          "Boa Vista",
          "Rorainópolis",
          "Caracaraí",
          "Pacaraima",
          "Cantá",
          "Mucajaí",
          "Alto Alegre",
          "Amajari",
          "Bonfim",
          "Iracema",
          "Joinville",
          "Florianópolis",
          "Blumenau",
          "São José, Santa Catarina",
          "Chapecó",
          "Itajaí",
          "Criciúma",
          "São José",
          "Jaraguá do Sul",
          "Lages",
          "Aracaju",
          "Nossa Senhora do Socorro",
          "Lagarto",
          "Itabaiana",
          "São Cristóvão",
          "Estância",
          "Itabaianinha",
          "Simão Dias",
          "Poço Redondo",
          "Capela",
          "São Paulo",
          "Guarulhos",
          "Campinas",
          "São Bernardo do Campo",
          "São José dos Campos",
          "Santo André",
          "Ribeirão Preto",
          "Osasco",
          "Sorocaba",
          "Subprefecture of Campo Limpo",
          "Palmas",
          "Araguaína",
          "Gurupi",
          "Porto Nacional",
          "Paraíso do Tocantins",
          "Araguatins",
          "Colinas do Tocantins",
          "Guaraí",
          "Tocantinópolis",
          "Dianópolis"
         ],
         "lat": [
          -9.978055555,
          -7.630833333,
          -9.065833333,
          -8.160833333,
          -8.163888888,
          -11.01,
          -10.1497,
          -10.651944444,
          -7.741944444,
          -7.613888888,
          -9.665833333,
          -9.75,
          -9.477777777,
          -9.406944444,
          -10.24448,
          -9.780833333,
          -9.781944444,
          -10.125833333,
          -9.385833333,
          -9.71,
          0.032958333,
          -0.035,
          -0.841944444,
          3.842777777,
          0.712777777,
          -0.115,
          1.505833333,
          0.779444444,
          -0.937777777,
          2.497777777,
          -3.04361,
          -2.627777777,
          -3.142777777,
          -3.3,
          -4.085,
          -3.383611111,
          -3.353888888,
          -5.808888888,
          -7.506111111,
          -3.285,
          -12.970833333,
          -12.266944444,
          -12.697777777,
          -14.86611,
          -9.413888888,
          -14.785833333,
          -12.893888888,
          -17.535,
          -14.788888888,
          -12.152777777,
          -3.7275,
          -3.732777777,
          -7.212777777,
          -3.876944444,
          -3.685555555,
          -7.233888888,
          -3.493888888,
          -3.89,
          -6.358888888,
          -5.198888888,
          -20.128888888,
          -20.32972,
          -20.26389,
          -20.318888888,
          -20.848888888,
          -19.39111,
          -18.78622,
          -20.657777777,
          -19.53944,
          -19.81952,
          -15.77972,
          -15.67941,
          -15.8091,
          -16.02511,
          -15.8707,
          -15.77553,
          -15.64713,
          -15.83326,
          -16.67861,
          -16.821944444,
          -16.326944444,
          -15.761944444,
          -17.797777777,
          -16.252777777,
          -16.065833333,
          -15.536944444,
          -18.17,
          -18.42,
          -2.53,
          -5.525833333,
          -2.561944444,
          -5.093888888,
          -4.858888888,
          -4.455,
          -4.946944444,
          -2.531944444,
          -4.225,
          -7.532777777,
          -15.595833333,
          -15.646944444,
          -16.470833333,
          -11.863888888,
          -14.618888888,
          -12.545,
          -16.071111111,
          -15.527777777,
          -15.89,
          -13.05,
          -20.468611111,
          -22.220833333,
          -19.008888888,
          -22.535833333,
          -20.78765,
          -20.931944444,
          -23.065,
          -22.232777777,
          -20.470833333,
          -21.613888888,
          -19.92083,
          -19.11099,
          -18.918888888,
          -19.931944444,
          -21.75,
          -19.967777777,
          -16.58789,
          -19.766944444,
          -19.747777777,
          -18.850833333,
          -25.429722222,
          -23.31,
          -23.425,
          -25.095,
          -24.955833333,
          -25.535,
          -25.54,
          -25.291944444,
          -25.395,
          -25.51626,
          -7.12,
          -7.230555555,
          -7.113888888,
          -7.024444444,
          -7.133333333,
          -6.760833333,
          -6.980833333,
          -6.89,
          -6.855,
          -7.095,
          -1.455833333,
          -1.365833333,
          -2.442777777,
          -5.368888888,
          -1.296944444,
          -1.717777777,
          -6.067777777,
          -2.243888888,
          -1.355,
          -1.062777777,
          -8.053888888,
          -8.112777777,
          -8.008888888,
          -8.282777777,
          -9.392777777,
          -7.940833333,
          -8.286944444,
          -8.02167,
          -8.890277777,
          -8.126388888,
          -5.0949,
          -2.905,
          -7.076944444,
          -4.272777777,
          -6.766944444,
          -4.246944444,
          -4.827777777,
          -4.585833333,
          -3.901944444,
          -4.49028,
          -5.795,
          -5.187777777,
          -5.915833333,
          -5.792777777,
          -5.857777777,
          -5.633888888,
          -6.457777777,
          -5.57667,
          -6.260833333,
          -6.075,
          -30.032777777,
          -29.167777777,
          -29.92,
          -31.771944444,
          -29.683888888,
          -29.943333333,
          -30.080833333,
          -29.677777777,
          -29.76,
          -32.035,
          -22.908333333,
          -22.826944444,
          -22.78556,
          -22.758888888,
          -22.91715,
          -22.763888888,
          -22.803888888,
          -21.75227,
          -22.505,
          -8.761944444,
          -10.88528,
          -9.91333,
          -12.740555555,
          -11.438611111,
          -10.438888888,
          -11.725430555,
          -10.782777777,
          -9.443888888,
          -13.082777777,
          2.82,
          0.945833333,
          1.815833333,
          4.430833333,
          2.61,
          2.43,
          2.987777777,
          3.654166666,
          3.36,
          2.181944444,
          -26.303888888,
          -27.59667,
          -26.918888888,
          -27.615,
          -27.09639,
          -26.907777777,
          -28.6775,
          -28.211666666,
          -26.485833333,
          -27.815833333,
          -10.9167,
          -10.855,
          -10.916944444,
          -10.685,
          -11.015,
          -11.267777777,
          -11.273888888,
          -10.737777777,
          -9.805833333,
          -10.502777777,
          -23.550394444,
          -23.46278,
          -22.900913888,
          -23.693888888,
          -23.178888888,
          -23.71057,
          -21.1775,
          -23.532777777,
          -23.501944444,
          -23.63301,
          -10.212777777,
          -7.190833333,
          -11.728888888,
          -10.707777777,
          -10.175833333,
          -5.650833333,
          -8.058888888,
          -8.833888888,
          -6.328888888,
          -11.62778
         ],
         "legendgroup": "",
         "lon": [
          -67.811666666,
          -72.67,
          -68.656944444,
          -70.765833333,
          -70.353888888,
          -68.747777777,
          -67.73741,
          -68.503888888,
          -72.646944444,
          -72.895833333,
          -35.735,
          -36.65,
          -35.852777777,
          -36.627777777,
          -36.46992,
          -36.093888888,
          -36.350833333,
          -36.175833333,
          -37.995833333,
          -35.895,
          -51.065311111,
          -51.175,
          -52.515833333,
          -51.835,
          -51.412777777,
          -51.288888888,
          -50.911944444,
          -51.948888888,
          -52.423888888,
          -50.948888888,
          -60.01282,
          -56.735833333,
          -58.443888888,
          -60.620555555,
          -63.140833333,
          -57.718611111,
          -64.710833333,
          -61.3,
          -63.020833333,
          -60.188611111,
          -38.510833333,
          -38.966944444,
          -38.323888888,
          -40.83944,
          -40.502777777,
          -39.28,
          -38.326944444,
          -39.741944444,
          -39.048888888,
          -44.99,
          -38.5275,
          -38.655833333,
          -39.315,
          -38.625833333,
          -40.344166666,
          -39.408888888,
          -39.578888888,
          -38.685833333,
          -39.298888888,
          -39.292777777,
          -40.307777777,
          -40.2925,
          -40.42,
          -40.337777777,
          -41.112777777,
          -40.07222,
          -40.05515,
          -40.510833333,
          -40.63056,
          -40.19097,
          -47.92972,
          -48.19667,
          -48.13096,
          -48.07121,
          -47.96892,
          -47.78117,
          -47.79315,
          -48.05506,
          -49.25389,
          -49.245,
          -48.952777777,
          -48.281944444,
          -50.927777777,
          -47.95,
          -47.978888888,
          -47.333888888,
          -47.941944444,
          -49.217777777,
          -44.302777777,
          -47.475833333,
          -44.053888888,
          -42.836944444,
          -43.355833333,
          -43.885833333,
          -47.505,
          -44.107777777,
          -44.78,
          -46.035833333,
          -56.096944444,
          -56.132777777,
          -54.635833333,
          -55.503888888,
          -57.485833333,
          -55.710833333,
          -57.678888888,
          -54.345833333,
          -52.256944444,
          -55.910833333,
          -54.622222222,
          -54.805833333,
          -57.652777777,
          -55.725833333,
          -51.70338,
          -54.960833333,
          -54.190833333,
          -53.342777777,
          -55.786944444,
          -55.167777777,
          -43.93778,
          -45.43051,
          -48.276944444,
          -44.053888888,
          -43.35,
          -44.197777777,
          -43.89995,
          -44.086944444,
          -47.931944444,
          -41.948888888,
          -49.271944444,
          -51.162777777,
          -51.938888888,
          -50.161944444,
          -53.455,
          -49.205833333,
          -54.5875,
          -49.223888888,
          -51.457777777,
          -48.52537,
          -34.88,
          -35.881111111,
          -34.977777777,
          -37.28,
          -34.933333333,
          -38.230833333,
          -34.833888888,
          -38.561944444,
          -35.49,
          -35.232777777,
          -48.503888888,
          -48.371944444,
          -54.707777777,
          -49.117777777,
          -47.921944444,
          -48.882777777,
          -49.901944444,
          -49.495833333,
          -48.341944444,
          -46.772777777,
          -34.880833333,
          -35.015,
          -34.855,
          -35.975833333,
          -40.507777777,
          -34.872777777,
          -35.035,
          -34.98111,
          -36.492777777,
          -35.3075,
          -42.8042,
          -41.776944444,
          -41.466944444,
          -41.776944444,
          -43.022777777,
          -42.295833333,
          -42.168888888,
          -42.863888888,
          -42.233888888,
          -41.39962,
          -35.208888888,
          -37.343888888,
          -35.262777777,
          -35.328888888,
          -35.353888888,
          -35.425833333,
          -37.097777777,
          -36.90861,
          -36.515,
          -35.237777777,
          -51.23,
          -51.178888888,
          -51.18,
          -52.342777777,
          -53.806944444,
          -50.993888888,
          -51.022777777,
          -51.130833333,
          -51.146944444,
          -52.098888888,
          -43.196388888,
          -43.053888888,
          -43.31167,
          -43.450833333,
          -43.08391,
          -43.398888888,
          -43.371944444,
          -41.33044,
          -43.178888888,
          -63.903888888,
          -61.95167,
          -63.04083,
          -60.145833333,
          -61.447222222,
          -62.466388888,
          -61.777758333,
          -65.339444444,
          -61.981388888,
          -62.277222222,
          -60.671944444,
          -60.417777777,
          -61.127777777,
          -61.145833333,
          -60.596944444,
          -60.9,
          -61.304444444,
          -61.416944444,
          -59.832777777,
          -61.040833333,
          -48.845833333,
          -48.54917,
          -49.065833333,
          -48.627777777,
          -52.61833,
          -48.661944444,
          -49.36972,
          -49.163333333,
          -49.066944444,
          -50.325833333,
          -37.05,
          -37.125833333,
          -37.65,
          -37.425,
          -37.205833333,
          -37.437777777,
          -37.79,
          -37.810833333,
          -37.685,
          -37.052777777,
          -46.633947222,
          -46.53333,
          -47.057294444,
          -46.565,
          -45.886944444,
          -46.5046,
          -47.81028,
          -46.791944444,
          -47.457777777,
          -46.76532,
          -48.360277777,
          -48.206944444,
          -49.068888888,
          -48.416944444,
          -48.866944444,
          -48.123888888,
          -48.475,
          -48.51,
          -47.415833333,
          -46.82056
         ],
         "marker": {
          "color": "#636efa",
          "symbol": "circle"
         },
         "mode": "markers",
         "name": "",
         "showlegend": false,
         "type": "scattergeo"
        }
       ],
       "layout": {
        "geo": {
         "center": {},
         "domain": {
          "x": [
           0,
           1
          ],
          "y": [
           0,
           1
          ]
         }
        },
        "legend": {
         "tracegroupgap": 0
        },
        "margin": {
         "t": 60
        },
        "template": {
         "data": {
          "bar": [
           {
            "error_x": {
             "color": "#2a3f5f"
            },
            "error_y": {
             "color": "#2a3f5f"
            },
            "marker": {
             "line": {
              "color": "#E5ECF6",
              "width": 0.5
             },
             "pattern": {
              "fillmode": "overlay",
              "size": 10,
              "solidity": 0.2
             }
            },
            "type": "bar"
           }
          ],
          "barpolar": [
           {
            "marker": {
             "line": {
              "color": "#E5ECF6",
              "width": 0.5
             },
             "pattern": {
              "fillmode": "overlay",
              "size": 10,
              "solidity": 0.2
             }
            },
            "type": "barpolar"
           }
          ],
          "carpet": [
           {
            "aaxis": {
             "endlinecolor": "#2a3f5f",
             "gridcolor": "white",
             "linecolor": "white",
             "minorgridcolor": "white",
             "startlinecolor": "#2a3f5f"
            },
            "baxis": {
             "endlinecolor": "#2a3f5f",
             "gridcolor": "white",
             "linecolor": "white",
             "minorgridcolor": "white",
             "startlinecolor": "#2a3f5f"
            },
            "type": "carpet"
           }
          ],
          "choropleth": [
           {
            "colorbar": {
             "outlinewidth": 0,
             "ticks": ""
            },
            "type": "choropleth"
           }
          ],
          "contour": [
           {
            "colorbar": {
             "outlinewidth": 0,
             "ticks": ""
            },
            "colorscale": [
             [
              0,
              "#0d0887"
             ],
             [
              0.1111111111111111,
              "#46039f"
             ],
             [
              0.2222222222222222,
              "#7201a8"
             ],
             [
              0.3333333333333333,
              "#9c179e"
             ],
             [
              0.4444444444444444,
              "#bd3786"
             ],
             [
              0.5555555555555556,
              "#d8576b"
             ],
             [
              0.6666666666666666,
              "#ed7953"
             ],
             [
              0.7777777777777778,
              "#fb9f3a"
             ],
             [
              0.8888888888888888,
              "#fdca26"
             ],
             [
              1,
              "#f0f921"
             ]
            ],
            "type": "contour"
           }
          ],
          "contourcarpet": [
           {
            "colorbar": {
             "outlinewidth": 0,
             "ticks": ""
            },
            "type": "contourcarpet"
           }
          ],
          "heatmap": [
           {
            "colorbar": {
             "outlinewidth": 0,
             "ticks": ""
            },
            "colorscale": [
             [
              0,
              "#0d0887"
             ],
             [
              0.1111111111111111,
              "#46039f"
             ],
             [
              0.2222222222222222,
              "#7201a8"
             ],
             [
              0.3333333333333333,
              "#9c179e"
             ],
             [
              0.4444444444444444,
              "#bd3786"
             ],
             [
              0.5555555555555556,
              "#d8576b"
             ],
             [
              0.6666666666666666,
              "#ed7953"
             ],
             [
              0.7777777777777778,
              "#fb9f3a"
             ],
             [
              0.8888888888888888,
              "#fdca26"
             ],
             [
              1,
              "#f0f921"
             ]
            ],
            "type": "heatmap"
           }
          ],
          "heatmapgl": [
           {
            "colorbar": {
             "outlinewidth": 0,
             "ticks": ""
            },
            "colorscale": [
             [
              0,
              "#0d0887"
             ],
             [
              0.1111111111111111,
              "#46039f"
             ],
             [
              0.2222222222222222,
              "#7201a8"
             ],
             [
              0.3333333333333333,
              "#9c179e"
             ],
             [
              0.4444444444444444,
              "#bd3786"
             ],
             [
              0.5555555555555556,
              "#d8576b"
             ],
             [
              0.6666666666666666,
              "#ed7953"
             ],
             [
              0.7777777777777778,
              "#fb9f3a"
             ],
             [
              0.8888888888888888,
              "#fdca26"
             ],
             [
              1,
              "#f0f921"
             ]
            ],
            "type": "heatmapgl"
           }
          ],
          "histogram": [
           {
            "marker": {
             "pattern": {
              "fillmode": "overlay",
              "size": 10,
              "solidity": 0.2
             }
            },
            "type": "histogram"
           }
          ],
          "histogram2d": [
           {
            "colorbar": {
             "outlinewidth": 0,
             "ticks": ""
            },
            "colorscale": [
             [
              0,
              "#0d0887"
             ],
             [
              0.1111111111111111,
              "#46039f"
             ],
             [
              0.2222222222222222,
              "#7201a8"
             ],
             [
              0.3333333333333333,
              "#9c179e"
             ],
             [
              0.4444444444444444,
              "#bd3786"
             ],
             [
              0.5555555555555556,
              "#d8576b"
             ],
             [
              0.6666666666666666,
              "#ed7953"
             ],
             [
              0.7777777777777778,
              "#fb9f3a"
             ],
             [
              0.8888888888888888,
              "#fdca26"
             ],
             [
              1,
              "#f0f921"
             ]
            ],
            "type": "histogram2d"
           }
          ],
          "histogram2dcontour": [
           {
            "colorbar": {
             "outlinewidth": 0,
             "ticks": ""
            },
            "colorscale": [
             [
              0,
              "#0d0887"
             ],
             [
              0.1111111111111111,
              "#46039f"
             ],
             [
              0.2222222222222222,
              "#7201a8"
             ],
             [
              0.3333333333333333,
              "#9c179e"
             ],
             [
              0.4444444444444444,
              "#bd3786"
             ],
             [
              0.5555555555555556,
              "#d8576b"
             ],
             [
              0.6666666666666666,
              "#ed7953"
             ],
             [
              0.7777777777777778,
              "#fb9f3a"
             ],
             [
              0.8888888888888888,
              "#fdca26"
             ],
             [
              1,
              "#f0f921"
             ]
            ],
            "type": "histogram2dcontour"
           }
          ],
          "mesh3d": [
           {
            "colorbar": {
             "outlinewidth": 0,
             "ticks": ""
            },
            "type": "mesh3d"
           }
          ],
          "parcoords": [
           {
            "line": {
             "colorbar": {
              "outlinewidth": 0,
              "ticks": ""
             }
            },
            "type": "parcoords"
           }
          ],
          "pie": [
           {
            "automargin": true,
            "type": "pie"
           }
          ],
          "scatter": [
           {
            "fillpattern": {
             "fillmode": "overlay",
             "size": 10,
             "solidity": 0.2
            },
            "type": "scatter"
           }
          ],
          "scatter3d": [
           {
            "line": {
             "colorbar": {
              "outlinewidth": 0,
              "ticks": ""
             }
            },
            "marker": {
             "colorbar": {
              "outlinewidth": 0,
              "ticks": ""
             }
            },
            "type": "scatter3d"
           }
          ],
          "scattercarpet": [
           {
            "marker": {
             "colorbar": {
              "outlinewidth": 0,
              "ticks": ""
             }
            },
            "type": "scattercarpet"
           }
          ],
          "scattergeo": [
           {
            "marker": {
             "colorbar": {
              "outlinewidth": 0,
              "ticks": ""
             }
            },
            "type": "scattergeo"
           }
          ],
          "scattergl": [
           {
            "marker": {
             "colorbar": {
              "outlinewidth": 0,
              "ticks": ""
             }
            },
            "type": "scattergl"
           }
          ],
          "scattermapbox": [
           {
            "marker": {
             "colorbar": {
              "outlinewidth": 0,
              "ticks": ""
             }
            },
            "type": "scattermapbox"
           }
          ],
          "scatterpolar": [
           {
            "marker": {
             "colorbar": {
              "outlinewidth": 0,
              "ticks": ""
             }
            },
            "type": "scatterpolar"
           }
          ],
          "scatterpolargl": [
           {
            "marker": {
             "colorbar": {
              "outlinewidth": 0,
              "ticks": ""
             }
            },
            "type": "scatterpolargl"
           }
          ],
          "scatterternary": [
           {
            "marker": {
             "colorbar": {
              "outlinewidth": 0,
              "ticks": ""
             }
            },
            "type": "scatterternary"
           }
          ],
          "surface": [
           {
            "colorbar": {
             "outlinewidth": 0,
             "ticks": ""
            },
            "colorscale": [
             [
              0,
              "#0d0887"
             ],
             [
              0.1111111111111111,
              "#46039f"
             ],
             [
              0.2222222222222222,
              "#7201a8"
             ],
             [
              0.3333333333333333,
              "#9c179e"
             ],
             [
              0.4444444444444444,
              "#bd3786"
             ],
             [
              0.5555555555555556,
              "#d8576b"
             ],
             [
              0.6666666666666666,
              "#ed7953"
             ],
             [
              0.7777777777777778,
              "#fb9f3a"
             ],
             [
              0.8888888888888888,
              "#fdca26"
             ],
             [
              1,
              "#f0f921"
             ]
            ],
            "type": "surface"
           }
          ],
          "table": [
           {
            "cells": {
             "fill": {
              "color": "#EBF0F8"
             },
             "line": {
              "color": "white"
             }
            },
            "header": {
             "fill": {
              "color": "#C8D4E3"
             },
             "line": {
              "color": "white"
             }
            },
            "type": "table"
           }
          ]
         },
         "layout": {
          "annotationdefaults": {
           "arrowcolor": "#2a3f5f",
           "arrowhead": 0,
           "arrowwidth": 1
          },
          "autotypenumbers": "strict",
          "coloraxis": {
           "colorbar": {
            "outlinewidth": 0,
            "ticks": ""
           }
          },
          "colorscale": {
           "diverging": [
            [
             0,
             "#8e0152"
            ],
            [
             0.1,
             "#c51b7d"
            ],
            [
             0.2,
             "#de77ae"
            ],
            [
             0.3,
             "#f1b6da"
            ],
            [
             0.4,
             "#fde0ef"
            ],
            [
             0.5,
             "#f7f7f7"
            ],
            [
             0.6,
             "#e6f5d0"
            ],
            [
             0.7,
             "#b8e186"
            ],
            [
             0.8,
             "#7fbc41"
            ],
            [
             0.9,
             "#4d9221"
            ],
            [
             1,
             "#276419"
            ]
           ],
           "sequential": [
            [
             0,
             "#0d0887"
            ],
            [
             0.1111111111111111,
             "#46039f"
            ],
            [
             0.2222222222222222,
             "#7201a8"
            ],
            [
             0.3333333333333333,
             "#9c179e"
            ],
            [
             0.4444444444444444,
             "#bd3786"
            ],
            [
             0.5555555555555556,
             "#d8576b"
            ],
            [
             0.6666666666666666,
             "#ed7953"
            ],
            [
             0.7777777777777778,
             "#fb9f3a"
            ],
            [
             0.8888888888888888,
             "#fdca26"
            ],
            [
             1,
             "#f0f921"
            ]
           ],
           "sequentialminus": [
            [
             0,
             "#0d0887"
            ],
            [
             0.1111111111111111,
             "#46039f"
            ],
            [
             0.2222222222222222,
             "#7201a8"
            ],
            [
             0.3333333333333333,
             "#9c179e"
            ],
            [
             0.4444444444444444,
             "#bd3786"
            ],
            [
             0.5555555555555556,
             "#d8576b"
            ],
            [
             0.6666666666666666,
             "#ed7953"
            ],
            [
             0.7777777777777778,
             "#fb9f3a"
            ],
            [
             0.8888888888888888,
             "#fdca26"
            ],
            [
             1,
             "#f0f921"
            ]
           ]
          },
          "colorway": [
           "#636efa",
           "#EF553B",
           "#00cc96",
           "#ab63fa",
           "#FFA15A",
           "#19d3f3",
           "#FF6692",
           "#B6E880",
           "#FF97FF",
           "#FECB52"
          ],
          "font": {
           "color": "#2a3f5f"
          },
          "geo": {
           "bgcolor": "white",
           "lakecolor": "white",
           "landcolor": "#E5ECF6",
           "showlakes": true,
           "showland": true,
           "subunitcolor": "white"
          },
          "hoverlabel": {
           "align": "left"
          },
          "hovermode": "closest",
          "mapbox": {
           "style": "light"
          },
          "paper_bgcolor": "white",
          "plot_bgcolor": "#E5ECF6",
          "polar": {
           "angularaxis": {
            "gridcolor": "white",
            "linecolor": "white",
            "ticks": ""
           },
           "bgcolor": "#E5ECF6",
           "radialaxis": {
            "gridcolor": "white",
            "linecolor": "white",
            "ticks": ""
           }
          },
          "scene": {
           "xaxis": {
            "backgroundcolor": "#E5ECF6",
            "gridcolor": "white",
            "gridwidth": 2,
            "linecolor": "white",
            "showbackground": true,
            "ticks": "",
            "zerolinecolor": "white"
           },
           "yaxis": {
            "backgroundcolor": "#E5ECF6",
            "gridcolor": "white",
            "gridwidth": 2,
            "linecolor": "white",
            "showbackground": true,
            "ticks": "",
            "zerolinecolor": "white"
           },
           "zaxis": {
            "backgroundcolor": "#E5ECF6",
            "gridcolor": "white",
            "gridwidth": 2,
            "linecolor": "white",
            "showbackground": true,
            "ticks": "",
            "zerolinecolor": "white"
           }
          },
          "shapedefaults": {
           "line": {
            "color": "#2a3f5f"
           }
          },
          "ternary": {
           "aaxis": {
            "gridcolor": "white",
            "linecolor": "white",
            "ticks": ""
           },
           "baxis": {
            "gridcolor": "white",
            "linecolor": "white",
            "ticks": ""
           },
           "bgcolor": "#E5ECF6",
           "caxis": {
            "gridcolor": "white",
            "linecolor": "white",
            "ticks": ""
           }
          },
          "title": {
           "x": 0.05
          },
          "xaxis": {
           "automargin": true,
           "gridcolor": "white",
           "linecolor": "white",
           "ticks": "",
           "title": {
            "standoff": 15
           },
           "zerolinecolor": "white",
           "zerolinewidth": 2
          },
          "yaxis": {
           "automargin": true,
           "gridcolor": "white",
           "linecolor": "white",
           "ticks": "",
           "title": {
            "standoff": 15
           },
           "zerolinecolor": "white",
           "zerolinewidth": 2
          }
         }
        }
       }
      }
     },
     "metadata": {},
     "output_type": "display_data"
    }
   ],
   "source": [
    "fig = px.scatter_geo(dft, 'latitude', 'longitude', hover_name='name')\n",
    "\n",
    "fig"
   ]
  },
  {
   "cell_type": "code",
   "execution_count": 154,
   "metadata": {},
   "outputs": [
    {
     "data": {
      "application/vnd.plotly.v1+json": {
       "config": {
        "plotlyServerURL": "https://plot.ly"
       },
       "data": [
        {
         "geo": "geo",
         "hovertemplate": "<b>%{hovertext}</b><br><br>latitude=%{lat}<br>longitude=%{lon}<extra></extra>",
         "hovertext": [
          413418,
          1025360,
          2219580,
          512902,
          2886698,
          2686612,
          3015268,
          527240,
          1536097,
          1108975,
          2521564,
          906092,
          618124,
          1499641,
          817511,
          1653461,
          868075,
          1948626,
          6747815,
          890480,
          511219,
          419652,
          1488252,
          597658,
          664908,
          12325232,
          306296
         ],
         "lat": [
          -7.613888888,
          -9.385833333,
          -2.627777777,
          3.842777777,
          -9.413888888,
          -3.493888888,
          -15.64713,
          -18.78622,
          -15.536944444,
          -2.53,
          -16.58789,
          -19.008888888,
          -11.863888888,
          -1.062777777,
          -6.760833333,
          -7.940833333,
          -2.905,
          -23.31,
          -21.75227,
          -5.187777777,
          -8.761944444,
          4.430833333,
          -29.167777777,
          -26.303888888,
          -9.805833333,
          -21.1775,
          -5.650833333
         ],
         "legendgroup": "",
         "lon": [
          -67.73741,
          -35.735,
          -56.735833333,
          -50.911944444,
          -38.323888888,
          -38.5275,
          -47.78117,
          -40.05515,
          -47.333888888,
          -42.836944444,
          -41.948888888,
          -51.70338,
          -52.256944444,
          -46.772777777,
          -34.833888888,
          -34.855,
          -41.39962,
          -48.52537,
          -41.33044,
          -35.208888888,
          -60.145833333,
          -59.832777777,
          -50.993888888,
          -48.54917,
          -37.05,
          -45.886944444,
          -46.82056
         ],
         "marker": {
          "color": "#636efa",
          "symbol": "circle"
         },
         "mode": "markers",
         "name": "",
         "showlegend": false,
         "type": "scattergeo"
        }
       ],
       "layout": {
        "geo": {
         "center": {},
         "domain": {
          "x": [
           0,
           1
          ],
          "y": [
           0,
           1
          ]
         }
        },
        "legend": {
         "tracegroupgap": 0
        },
        "margin": {
         "t": 60
        },
        "template": {
         "data": {
          "bar": [
           {
            "error_x": {
             "color": "#2a3f5f"
            },
            "error_y": {
             "color": "#2a3f5f"
            },
            "marker": {
             "line": {
              "color": "#E5ECF6",
              "width": 0.5
             },
             "pattern": {
              "fillmode": "overlay",
              "size": 10,
              "solidity": 0.2
             }
            },
            "type": "bar"
           }
          ],
          "barpolar": [
           {
            "marker": {
             "line": {
              "color": "#E5ECF6",
              "width": 0.5
             },
             "pattern": {
              "fillmode": "overlay",
              "size": 10,
              "solidity": 0.2
             }
            },
            "type": "barpolar"
           }
          ],
          "carpet": [
           {
            "aaxis": {
             "endlinecolor": "#2a3f5f",
             "gridcolor": "white",
             "linecolor": "white",
             "minorgridcolor": "white",
             "startlinecolor": "#2a3f5f"
            },
            "baxis": {
             "endlinecolor": "#2a3f5f",
             "gridcolor": "white",
             "linecolor": "white",
             "minorgridcolor": "white",
             "startlinecolor": "#2a3f5f"
            },
            "type": "carpet"
           }
          ],
          "choropleth": [
           {
            "colorbar": {
             "outlinewidth": 0,
             "ticks": ""
            },
            "type": "choropleth"
           }
          ],
          "contour": [
           {
            "colorbar": {
             "outlinewidth": 0,
             "ticks": ""
            },
            "colorscale": [
             [
              0,
              "#0d0887"
             ],
             [
              0.1111111111111111,
              "#46039f"
             ],
             [
              0.2222222222222222,
              "#7201a8"
             ],
             [
              0.3333333333333333,
              "#9c179e"
             ],
             [
              0.4444444444444444,
              "#bd3786"
             ],
             [
              0.5555555555555556,
              "#d8576b"
             ],
             [
              0.6666666666666666,
              "#ed7953"
             ],
             [
              0.7777777777777778,
              "#fb9f3a"
             ],
             [
              0.8888888888888888,
              "#fdca26"
             ],
             [
              1,
              "#f0f921"
             ]
            ],
            "type": "contour"
           }
          ],
          "contourcarpet": [
           {
            "colorbar": {
             "outlinewidth": 0,
             "ticks": ""
            },
            "type": "contourcarpet"
           }
          ],
          "heatmap": [
           {
            "colorbar": {
             "outlinewidth": 0,
             "ticks": ""
            },
            "colorscale": [
             [
              0,
              "#0d0887"
             ],
             [
              0.1111111111111111,
              "#46039f"
             ],
             [
              0.2222222222222222,
              "#7201a8"
             ],
             [
              0.3333333333333333,
              "#9c179e"
             ],
             [
              0.4444444444444444,
              "#bd3786"
             ],
             [
              0.5555555555555556,
              "#d8576b"
             ],
             [
              0.6666666666666666,
              "#ed7953"
             ],
             [
              0.7777777777777778,
              "#fb9f3a"
             ],
             [
              0.8888888888888888,
              "#fdca26"
             ],
             [
              1,
              "#f0f921"
             ]
            ],
            "type": "heatmap"
           }
          ],
          "heatmapgl": [
           {
            "colorbar": {
             "outlinewidth": 0,
             "ticks": ""
            },
            "colorscale": [
             [
              0,
              "#0d0887"
             ],
             [
              0.1111111111111111,
              "#46039f"
             ],
             [
              0.2222222222222222,
              "#7201a8"
             ],
             [
              0.3333333333333333,
              "#9c179e"
             ],
             [
              0.4444444444444444,
              "#bd3786"
             ],
             [
              0.5555555555555556,
              "#d8576b"
             ],
             [
              0.6666666666666666,
              "#ed7953"
             ],
             [
              0.7777777777777778,
              "#fb9f3a"
             ],
             [
              0.8888888888888888,
              "#fdca26"
             ],
             [
              1,
              "#f0f921"
             ]
            ],
            "type": "heatmapgl"
           }
          ],
          "histogram": [
           {
            "marker": {
             "pattern": {
              "fillmode": "overlay",
              "size": 10,
              "solidity": 0.2
             }
            },
            "type": "histogram"
           }
          ],
          "histogram2d": [
           {
            "colorbar": {
             "outlinewidth": 0,
             "ticks": ""
            },
            "colorscale": [
             [
              0,
              "#0d0887"
             ],
             [
              0.1111111111111111,
              "#46039f"
             ],
             [
              0.2222222222222222,
              "#7201a8"
             ],
             [
              0.3333333333333333,
              "#9c179e"
             ],
             [
              0.4444444444444444,
              "#bd3786"
             ],
             [
              0.5555555555555556,
              "#d8576b"
             ],
             [
              0.6666666666666666,
              "#ed7953"
             ],
             [
              0.7777777777777778,
              "#fb9f3a"
             ],
             [
              0.8888888888888888,
              "#fdca26"
             ],
             [
              1,
              "#f0f921"
             ]
            ],
            "type": "histogram2d"
           }
          ],
          "histogram2dcontour": [
           {
            "colorbar": {
             "outlinewidth": 0,
             "ticks": ""
            },
            "colorscale": [
             [
              0,
              "#0d0887"
             ],
             [
              0.1111111111111111,
              "#46039f"
             ],
             [
              0.2222222222222222,
              "#7201a8"
             ],
             [
              0.3333333333333333,
              "#9c179e"
             ],
             [
              0.4444444444444444,
              "#bd3786"
             ],
             [
              0.5555555555555556,
              "#d8576b"
             ],
             [
              0.6666666666666666,
              "#ed7953"
             ],
             [
              0.7777777777777778,
              "#fb9f3a"
             ],
             [
              0.8888888888888888,
              "#fdca26"
             ],
             [
              1,
              "#f0f921"
             ]
            ],
            "type": "histogram2dcontour"
           }
          ],
          "mesh3d": [
           {
            "colorbar": {
             "outlinewidth": 0,
             "ticks": ""
            },
            "type": "mesh3d"
           }
          ],
          "parcoords": [
           {
            "line": {
             "colorbar": {
              "outlinewidth": 0,
              "ticks": ""
             }
            },
            "type": "parcoords"
           }
          ],
          "pie": [
           {
            "automargin": true,
            "type": "pie"
           }
          ],
          "scatter": [
           {
            "fillpattern": {
             "fillmode": "overlay",
             "size": 10,
             "solidity": 0.2
            },
            "type": "scatter"
           }
          ],
          "scatter3d": [
           {
            "line": {
             "colorbar": {
              "outlinewidth": 0,
              "ticks": ""
             }
            },
            "marker": {
             "colorbar": {
              "outlinewidth": 0,
              "ticks": ""
             }
            },
            "type": "scatter3d"
           }
          ],
          "scattercarpet": [
           {
            "marker": {
             "colorbar": {
              "outlinewidth": 0,
              "ticks": ""
             }
            },
            "type": "scattercarpet"
           }
          ],
          "scattergeo": [
           {
            "marker": {
             "colorbar": {
              "outlinewidth": 0,
              "ticks": ""
             }
            },
            "type": "scattergeo"
           }
          ],
          "scattergl": [
           {
            "marker": {
             "colorbar": {
              "outlinewidth": 0,
              "ticks": ""
             }
            },
            "type": "scattergl"
           }
          ],
          "scattermapbox": [
           {
            "marker": {
             "colorbar": {
              "outlinewidth": 0,
              "ticks": ""
             }
            },
            "type": "scattermapbox"
           }
          ],
          "scatterpolar": [
           {
            "marker": {
             "colorbar": {
              "outlinewidth": 0,
              "ticks": ""
             }
            },
            "type": "scatterpolar"
           }
          ],
          "scatterpolargl": [
           {
            "marker": {
             "colorbar": {
              "outlinewidth": 0,
              "ticks": ""
             }
            },
            "type": "scatterpolargl"
           }
          ],
          "scatterternary": [
           {
            "marker": {
             "colorbar": {
              "outlinewidth": 0,
              "ticks": ""
             }
            },
            "type": "scatterternary"
           }
          ],
          "surface": [
           {
            "colorbar": {
             "outlinewidth": 0,
             "ticks": ""
            },
            "colorscale": [
             [
              0,
              "#0d0887"
             ],
             [
              0.1111111111111111,
              "#46039f"
             ],
             [
              0.2222222222222222,
              "#7201a8"
             ],
             [
              0.3333333333333333,
              "#9c179e"
             ],
             [
              0.4444444444444444,
              "#bd3786"
             ],
             [
              0.5555555555555556,
              "#d8576b"
             ],
             [
              0.6666666666666666,
              "#ed7953"
             ],
             [
              0.7777777777777778,
              "#fb9f3a"
             ],
             [
              0.8888888888888888,
              "#fdca26"
             ],
             [
              1,
              "#f0f921"
             ]
            ],
            "type": "surface"
           }
          ],
          "table": [
           {
            "cells": {
             "fill": {
              "color": "#EBF0F8"
             },
             "line": {
              "color": "white"
             }
            },
            "header": {
             "fill": {
              "color": "#C8D4E3"
             },
             "line": {
              "color": "white"
             }
            },
            "type": "table"
           }
          ]
         },
         "layout": {
          "annotationdefaults": {
           "arrowcolor": "#2a3f5f",
           "arrowhead": 0,
           "arrowwidth": 1
          },
          "autotypenumbers": "strict",
          "coloraxis": {
           "colorbar": {
            "outlinewidth": 0,
            "ticks": ""
           }
          },
          "colorscale": {
           "diverging": [
            [
             0,
             "#8e0152"
            ],
            [
             0.1,
             "#c51b7d"
            ],
            [
             0.2,
             "#de77ae"
            ],
            [
             0.3,
             "#f1b6da"
            ],
            [
             0.4,
             "#fde0ef"
            ],
            [
             0.5,
             "#f7f7f7"
            ],
            [
             0.6,
             "#e6f5d0"
            ],
            [
             0.7,
             "#b8e186"
            ],
            [
             0.8,
             "#7fbc41"
            ],
            [
             0.9,
             "#4d9221"
            ],
            [
             1,
             "#276419"
            ]
           ],
           "sequential": [
            [
             0,
             "#0d0887"
            ],
            [
             0.1111111111111111,
             "#46039f"
            ],
            [
             0.2222222222222222,
             "#7201a8"
            ],
            [
             0.3333333333333333,
             "#9c179e"
            ],
            [
             0.4444444444444444,
             "#bd3786"
            ],
            [
             0.5555555555555556,
             "#d8576b"
            ],
            [
             0.6666666666666666,
             "#ed7953"
            ],
            [
             0.7777777777777778,
             "#fb9f3a"
            ],
            [
             0.8888888888888888,
             "#fdca26"
            ],
            [
             1,
             "#f0f921"
            ]
           ],
           "sequentialminus": [
            [
             0,
             "#0d0887"
            ],
            [
             0.1111111111111111,
             "#46039f"
            ],
            [
             0.2222222222222222,
             "#7201a8"
            ],
            [
             0.3333333333333333,
             "#9c179e"
            ],
            [
             0.4444444444444444,
             "#bd3786"
            ],
            [
             0.5555555555555556,
             "#d8576b"
            ],
            [
             0.6666666666666666,
             "#ed7953"
            ],
            [
             0.7777777777777778,
             "#fb9f3a"
            ],
            [
             0.8888888888888888,
             "#fdca26"
            ],
            [
             1,
             "#f0f921"
            ]
           ]
          },
          "colorway": [
           "#636efa",
           "#EF553B",
           "#00cc96",
           "#ab63fa",
           "#FFA15A",
           "#19d3f3",
           "#FF6692",
           "#B6E880",
           "#FF97FF",
           "#FECB52"
          ],
          "font": {
           "color": "#2a3f5f"
          },
          "geo": {
           "bgcolor": "white",
           "lakecolor": "white",
           "landcolor": "#E5ECF6",
           "showlakes": true,
           "showland": true,
           "subunitcolor": "white"
          },
          "hoverlabel": {
           "align": "left"
          },
          "hovermode": "closest",
          "mapbox": {
           "style": "light"
          },
          "paper_bgcolor": "white",
          "plot_bgcolor": "#E5ECF6",
          "polar": {
           "angularaxis": {
            "gridcolor": "white",
            "linecolor": "white",
            "ticks": ""
           },
           "bgcolor": "#E5ECF6",
           "radialaxis": {
            "gridcolor": "white",
            "linecolor": "white",
            "ticks": ""
           }
          },
          "scene": {
           "xaxis": {
            "backgroundcolor": "#E5ECF6",
            "gridcolor": "white",
            "gridwidth": 2,
            "linecolor": "white",
            "showbackground": true,
            "ticks": "",
            "zerolinecolor": "white"
           },
           "yaxis": {
            "backgroundcolor": "#E5ECF6",
            "gridcolor": "white",
            "gridwidth": 2,
            "linecolor": "white",
            "showbackground": true,
            "ticks": "",
            "zerolinecolor": "white"
           },
           "zaxis": {
            "backgroundcolor": "#E5ECF6",
            "gridcolor": "white",
            "gridwidth": 2,
            "linecolor": "white",
            "showbackground": true,
            "ticks": "",
            "zerolinecolor": "white"
           }
          },
          "shapedefaults": {
           "line": {
            "color": "#2a3f5f"
           }
          },
          "ternary": {
           "aaxis": {
            "gridcolor": "white",
            "linecolor": "white",
            "ticks": ""
           },
           "baxis": {
            "gridcolor": "white",
            "linecolor": "white",
            "ticks": ""
           },
           "bgcolor": "#E5ECF6",
           "caxis": {
            "gridcolor": "white",
            "linecolor": "white",
            "ticks": ""
           }
          },
          "title": {
           "x": 0.05
          },
          "xaxis": {
           "automargin": true,
           "gridcolor": "white",
           "linecolor": "white",
           "ticks": "",
           "title": {
            "standoff": 15
           },
           "zerolinecolor": "white",
           "zerolinewidth": 2
          },
          "yaxis": {
           "automargin": true,
           "gridcolor": "white",
           "linecolor": "white",
           "ticks": "",
           "title": {
            "standoff": 15
           },
           "zerolinecolor": "white",
           "zerolinewidth": 2
          }
         }
        }
       }
      }
     },
     "metadata": {},
     "output_type": "display_data"
    }
   ],
   "source": [
    "dft2 = dft.groupby('state').max('population')\n",
    "\n",
    "fig = px.scatter_geo(dft2, 'latitude', 'longitude', hover_name='population')\n",
    "\n",
    "fig"
   ]
  },
  {
   "cell_type": "code",
   "execution_count": 196,
   "metadata": {},
   "outputs": [
    {
     "name": "stderr",
     "output_type": "stream",
     "text": [
      "/tmp/ipykernel_31202/1540547888.py:6: SettingWithCopyWarning:\n",
      "\n",
      "\n",
      "A value is trying to be set on a copy of a slice from a DataFrame\n",
      "\n",
      "See the caveats in the documentation: https://pandas.pydata.org/pandas-docs/stable/user_guide/indexing.html#returning-a-view-versus-a-copy\n",
      "\n"
     ]
    },
    {
     "data": {
      "image/png": "[encoded data removed]",
      "text/plain": [
       "<Figure size 432x288 with 1 Axes>"
      ]
     },
     "metadata": {
      "needs_background": "light"
     },
     "output_type": "display_data"
    }
   ],
   "source": [
    "df = pd.read_csv(\"cidades.csv\")\n",
    "colors = np.random.randint(0, 267, size=267)\n",
    "\n",
    "i = 0\n",
    "while(i < df.shape[0]):\n",
    "    df['population'][i] = df['population'][i]/10000\n",
    "    i += 1\n",
    "df.insert(9, 'color', colors, True)\n",
    "\n",
    "\n",
    "plt.scatter( 'longitude','latitude', c= 'color', s='population', data=df)\n",
    "plt.xlabel('Longitude')\n",
    "plt.ylabel('Latitude')\n",
    "plt.show()"
   ]
  }
 ],
 "metadata": {
  "interpreter": {
   "hash": "e7370f93d1d0cde622a1f8e1c04877d8463912d04d973331ad4851f04de6915a"
  },
  "kernelspec": {
   "display_name": "Python 3.8.10 64-bit",
   "language": "python",
   "name": "python3"
  },
  "language_info": {
   "codemirror_mode": {
    "name": "ipython",
    "version": 3
   },
   "file_extension": ".py",
   "mimetype": "text/x-python",
   "name": "python",
   "nbconvert_exporter": "python",
   "pygments_lexer": "ipython3",
   "version": "3.8.10"
  },
  "orig_nbformat": 4
 },
 "nbformat": 4,
 "nbformat_minor": 2
}
